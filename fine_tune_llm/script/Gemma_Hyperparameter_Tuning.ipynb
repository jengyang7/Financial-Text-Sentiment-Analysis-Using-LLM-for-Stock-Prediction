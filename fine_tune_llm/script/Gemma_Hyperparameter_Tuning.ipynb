{
 "cells": [
  {
   "cell_type": "markdown",
   "metadata": {},
   "source": [
    "# Gemma 7B Hyperparameter Tuning with Optuna\n",
    "\n",
    "This notebook performs hyperparameter tuning for Gemma-7B using Optuna with 5 trials.\n",
    "\n",
    "## Tuning Parameters:\n",
    "- **Learning Rate**: Range [1e-5, 5e-4]\n",
    "- **Batch Size**: [1, 2, 4]\n",
    "- **Number of Epochs**: [1, 2, 3, 4, 5]\n",
    "\n",
    "## Dataset:\n",
    "- **Source**: FinancialPhraseBank with 100% annotator agreement\n",
    "- **Quality**: Highest quality labels for reliable evaluation\n",
    "\n",
    "## Process:\n",
    "- 5 trials with Optuna optimization\n",
    "- Memory clearing between trials\n",
    "- 60-second wait between trials\n",
    "- Objective: Maximize validation accuracy"
   ]
  },
  {
   "cell_type": "code",
   "execution_count": 1,
   "metadata": {},
   "outputs": [
    {
     "name": "stdout",
     "output_type": "stream",
     "text": [
      "Note: you may need to restart the kernel to use updated packages.\n"
     ]
    },
    {
     "name": "stderr",
     "output_type": "stream",
     "text": [
      "WARNING: Ignoring invalid distribution ~ (c:\\Users\\Jayden\\.venvs\\fyp-venv\\Lib\\site-packages)\n",
      "WARNING: Ignoring invalid distribution ~ensorboard (c:\\Users\\Jayden\\.venvs\\fyp-venv\\Lib\\site-packages)\n",
      "WARNING: Ignoring invalid distribution ~ (c:\\Users\\Jayden\\.venvs\\fyp-venv\\Lib\\site-packages)\n",
      "WARNING: Ignoring invalid distribution ~ensorboard (c:\\Users\\Jayden\\.venvs\\fyp-venv\\Lib\\site-packages)\n",
      "WARNING: Ignoring invalid distribution ~ (c:\\Users\\Jayden\\.venvs\\fyp-venv\\Lib\\site-packages)\n",
      "WARNING: Ignoring invalid distribution ~ensorboard (c:\\Users\\Jayden\\.venvs\\fyp-venv\\Lib\\site-packages)\n"
     ]
    },
    {
     "name": "stdout",
     "output_type": "stream",
     "text": [
      "Note: you may need to restart the kernel to use updated packages.\n"
     ]
    },
    {
     "name": "stderr",
     "output_type": "stream",
     "text": [
      "WARNING: Ignoring invalid distribution ~ (c:\\Users\\Jayden\\.venvs\\fyp-venv\\Lib\\site-packages)\n",
      "WARNING: Ignoring invalid distribution ~ensorboard (c:\\Users\\Jayden\\.venvs\\fyp-venv\\Lib\\site-packages)\n",
      "WARNING: Ignoring invalid distribution ~ (c:\\Users\\Jayden\\.venvs\\fyp-venv\\Lib\\site-packages)\n",
      "WARNING: Ignoring invalid distribution ~ensorboard (c:\\Users\\Jayden\\.venvs\\fyp-venv\\Lib\\site-packages)\n",
      "WARNING: Ignoring invalid distribution ~ (c:\\Users\\Jayden\\.venvs\\fyp-venv\\Lib\\site-packages)\n",
      "WARNING: Ignoring invalid distribution ~ensorboard (c:\\Users\\Jayden\\.venvs\\fyp-venv\\Lib\\site-packages)\n"
     ]
    },
    {
     "name": "stdout",
     "output_type": "stream",
     "text": [
      "Note: you may need to restart the kernel to use updated packages.\n"
     ]
    },
    {
     "name": "stderr",
     "output_type": "stream",
     "text": [
      "WARNING: Ignoring invalid distribution ~ (c:\\Users\\Jayden\\.venvs\\fyp-venv\\Lib\\site-packages)\n",
      "WARNING: Ignoring invalid distribution ~ensorboard (c:\\Users\\Jayden\\.venvs\\fyp-venv\\Lib\\site-packages)\n",
      "WARNING: Ignoring invalid distribution ~ (c:\\Users\\Jayden\\.venvs\\fyp-venv\\Lib\\site-packages)\n",
      "WARNING: Ignoring invalid distribution ~ensorboard (c:\\Users\\Jayden\\.venvs\\fyp-venv\\Lib\\site-packages)\n",
      "WARNING: Ignoring invalid distribution ~ (c:\\Users\\Jayden\\.venvs\\fyp-venv\\Lib\\site-packages)\n",
      "WARNING: Ignoring invalid distribution ~ensorboard (c:\\Users\\Jayden\\.venvs\\fyp-venv\\Lib\\site-packages)\n"
     ]
    },
    {
     "name": "stdout",
     "output_type": "stream",
     "text": [
      "Note: you may need to restart the kernel to use updated packages.\n"
     ]
    },
    {
     "name": "stderr",
     "output_type": "stream",
     "text": [
      "WARNING: Ignoring invalid distribution ~ (c:\\Users\\Jayden\\.venvs\\fyp-venv\\Lib\\site-packages)\n",
      "WARNING: Ignoring invalid distribution ~ensorboard (c:\\Users\\Jayden\\.venvs\\fyp-venv\\Lib\\site-packages)\n",
      "WARNING: Ignoring invalid distribution ~ (c:\\Users\\Jayden\\.venvs\\fyp-venv\\Lib\\site-packages)\n",
      "WARNING: Ignoring invalid distribution ~ensorboard (c:\\Users\\Jayden\\.venvs\\fyp-venv\\Lib\\site-packages)\n",
      "WARNING: Ignoring invalid distribution ~ (c:\\Users\\Jayden\\.venvs\\fyp-venv\\Lib\\site-packages)\n",
      "WARNING: Ignoring invalid distribution ~ensorboard (c:\\Users\\Jayden\\.venvs\\fyp-venv\\Lib\\site-packages)\n"
     ]
    },
    {
     "name": "stdout",
     "output_type": "stream",
     "text": [
      "Note: you may need to restart the kernel to use updated packages.\n"
     ]
    },
    {
     "name": "stderr",
     "output_type": "stream",
     "text": [
      "WARNING: Ignoring invalid distribution ~ (c:\\Users\\Jayden\\.venvs\\fyp-venv\\Lib\\site-packages)\n",
      "WARNING: Ignoring invalid distribution ~ensorboard (c:\\Users\\Jayden\\.venvs\\fyp-venv\\Lib\\site-packages)\n",
      "WARNING: Ignoring invalid distribution ~ (c:\\Users\\Jayden\\.venvs\\fyp-venv\\Lib\\site-packages)\n",
      "WARNING: Ignoring invalid distribution ~ensorboard (c:\\Users\\Jayden\\.venvs\\fyp-venv\\Lib\\site-packages)\n",
      "WARNING: Ignoring invalid distribution ~ (c:\\Users\\Jayden\\.venvs\\fyp-venv\\Lib\\site-packages)\n",
      "WARNING: Ignoring invalid distribution ~ensorboard (c:\\Users\\Jayden\\.venvs\\fyp-venv\\Lib\\site-packages)\n"
     ]
    },
    {
     "name": "stdout",
     "output_type": "stream",
     "text": [
      "Note: you may need to restart the kernel to use updated packages.\n"
     ]
    },
    {
     "name": "stderr",
     "output_type": "stream",
     "text": [
      "WARNING: Ignoring invalid distribution ~ (c:\\Users\\Jayden\\.venvs\\fyp-venv\\Lib\\site-packages)\n",
      "WARNING: Ignoring invalid distribution ~ensorboard (c:\\Users\\Jayden\\.venvs\\fyp-venv\\Lib\\site-packages)\n",
      "WARNING: Ignoring invalid distribution ~ (c:\\Users\\Jayden\\.venvs\\fyp-venv\\Lib\\site-packages)\n",
      "WARNING: Ignoring invalid distribution ~ensorboard (c:\\Users\\Jayden\\.venvs\\fyp-venv\\Lib\\site-packages)\n",
      "WARNING: Ignoring invalid distribution ~ (c:\\Users\\Jayden\\.venvs\\fyp-venv\\Lib\\site-packages)\n",
      "WARNING: Ignoring invalid distribution ~ensorboard (c:\\Users\\Jayden\\.venvs\\fyp-venv\\Lib\\site-packages)\n"
     ]
    },
    {
     "name": "stdout",
     "output_type": "stream",
     "text": [
      "Note: you may need to restart the kernel to use updated packages.\n"
     ]
    },
    {
     "name": "stderr",
     "output_type": "stream",
     "text": [
      "WARNING: Ignoring invalid distribution ~ (c:\\Users\\Jayden\\.venvs\\fyp-venv\\Lib\\site-packages)\n",
      "WARNING: Ignoring invalid distribution ~ensorboard (c:\\Users\\Jayden\\.venvs\\fyp-venv\\Lib\\site-packages)\n",
      "WARNING: Ignoring invalid distribution ~ (c:\\Users\\Jayden\\.venvs\\fyp-venv\\Lib\\site-packages)\n",
      "WARNING: Ignoring invalid distribution ~ensorboard (c:\\Users\\Jayden\\.venvs\\fyp-venv\\Lib\\site-packages)\n",
      "WARNING: Ignoring invalid distribution ~ (c:\\Users\\Jayden\\.venvs\\fyp-venv\\Lib\\site-packages)\n",
      "WARNING: Ignoring invalid distribution ~ensorboard (c:\\Users\\Jayden\\.venvs\\fyp-venv\\Lib\\site-packages)\n"
     ]
    },
    {
     "name": "stdout",
     "output_type": "stream",
     "text": [
      "Note: you may need to restart the kernel to use updated packages.\n"
     ]
    },
    {
     "name": "stderr",
     "output_type": "stream",
     "text": [
      "WARNING: Ignoring invalid distribution ~ (c:\\Users\\Jayden\\.venvs\\fyp-venv\\Lib\\site-packages)\n",
      "WARNING: Ignoring invalid distribution ~ensorboard (c:\\Users\\Jayden\\.venvs\\fyp-venv\\Lib\\site-packages)\n",
      "WARNING: Ignoring invalid distribution ~ (c:\\Users\\Jayden\\.venvs\\fyp-venv\\Lib\\site-packages)\n",
      "WARNING: Ignoring invalid distribution ~ensorboard (c:\\Users\\Jayden\\.venvs\\fyp-venv\\Lib\\site-packages)\n",
      "WARNING: Ignoring invalid distribution ~ (c:\\Users\\Jayden\\.venvs\\fyp-venv\\Lib\\site-packages)\n",
      "WARNING: Ignoring invalid distribution ~ensorboard (c:\\Users\\Jayden\\.venvs\\fyp-venv\\Lib\\site-packages)\n"
     ]
    },
    {
     "name": "stdout",
     "output_type": "stream",
     "text": [
      "Requirement already satisfied: tensorboard in c:\\users\\jayden\\.venvs\\fyp-venv\\lib\\site-packages (2.16.2)\n",
      "Requirement already satisfied: absl-py>=0.4 in c:\\users\\jayden\\.venvs\\fyp-venv\\lib\\site-packages (from tensorboard) (2.3.0)\n",
      "Requirement already satisfied: grpcio>=1.48.2 in c:\\users\\jayden\\.venvs\\fyp-venv\\lib\\site-packages (from tensorboard) (1.71.0)\n",
      "Requirement already satisfied: markdown>=2.6.8 in c:\\users\\jayden\\.venvs\\fyp-venv\\lib\\site-packages (from tensorboard) (3.8)\n",
      "Requirement already satisfied: numpy>=1.12.0 in c:\\users\\jayden\\.venvs\\fyp-venv\\lib\\site-packages (from tensorboard) (1.26.4)\n",
      "Requirement already satisfied: protobuf!=4.24.0,>=3.19.6 in c:\\users\\jayden\\.venvs\\fyp-venv\\lib\\site-packages (from tensorboard) (4.25.3)\n",
      "Requirement already satisfied: setuptools>=41.0.0 in c:\\users\\jayden\\.venvs\\fyp-venv\\lib\\site-packages (from tensorboard) (80.9.0)\n",
      "Requirement already satisfied: six>1.9 in c:\\users\\jayden\\.venvs\\fyp-venv\\lib\\site-packages (from tensorboard) (1.17.0)\n",
      "Requirement already satisfied: tensorboard-data-server<0.8.0,>=0.7.0 in c:\\users\\jayden\\.venvs\\fyp-venv\\lib\\site-packages (from tensorboard) (0.7.2)\n",
      "Requirement already satisfied: werkzeug>=1.0.1 in c:\\users\\jayden\\.venvs\\fyp-venv\\lib\\site-packages (from tensorboard) (3.1.3)\n",
      "Requirement already satisfied: MarkupSafe>=2.1.1 in c:\\users\\jayden\\.venvs\\fyp-venv\\lib\\site-packages (from werkzeug>=1.0.1->tensorboard) (3.0.2)\n",
      "Note: you may need to restart the kernel to use updated packages.\n"
     ]
    },
    {
     "name": "stderr",
     "output_type": "stream",
     "text": [
      "WARNING: Ignoring invalid distribution ~ (c:\\Users\\Jayden\\.venvs\\fyp-venv\\Lib\\site-packages)\n",
      "WARNING: Ignoring invalid distribution ~ensorboard (c:\\Users\\Jayden\\.venvs\\fyp-venv\\Lib\\site-packages)\n",
      "WARNING: Ignoring invalid distribution ~ (c:\\Users\\Jayden\\.venvs\\fyp-venv\\Lib\\site-packages)\n",
      "WARNING: Ignoring invalid distribution ~ensorboard (c:\\Users\\Jayden\\.venvs\\fyp-venv\\Lib\\site-packages)\n",
      "WARNING: Ignoring invalid distribution ~ (c:\\Users\\Jayden\\.venvs\\fyp-venv\\Lib\\site-packages)\n",
      "WARNING: Ignoring invalid distribution ~ensorboard (c:\\Users\\Jayden\\.venvs\\fyp-venv\\Lib\\site-packages)\n"
     ]
    }
   ],
   "source": [
    "# Install required packages\n",
    "%pip install -q optuna\n",
    "%pip install -q -U torch --index-url https://download.pytorch.org/whl/cu117\n",
    "%pip install -q -U transformers==4.38.2\n",
    "%pip install -q accelerate==0.32.0\n",
    "%pip install -q -i https://pypi.org/simple/ bitsandbytes\n",
    "%pip install -q -U datasets==2.16.1\n",
    "%pip install -q -U trl==0.7.11\n",
    "%pip install -q -U peft==0.10.0\n",
    "%pip install tensorboard\n"
   ]
  },
  {
   "cell_type": "code",
   "execution_count": 2,
   "metadata": {},
   "outputs": [
    {
     "name": "stdout",
     "output_type": "stream",
     "text": [
      "transformers==4.38.2\n",
      "PyTorch version: 2.5.1+cu121\n",
      "CUDA available: True\n",
      "Optuna version: 4.3.0\n"
     ]
    }
   ],
   "source": [
    "import os\n",
    "import warnings\n",
    "import time\n",
    "import gc\n",
    "import shutil\n",
    "from datetime import datetime\n",
    "\n",
    "# Set environment variables\n",
    "os.environ[\"CUDA_VISIBLE_DEVICES\"] = \"0\"\n",
    "os.environ[\"TOKENIZERS_PARALLELISM\"] = \"false\"\n",
    "warnings.filterwarnings(\"ignore\")\n",
    "\n",
    "import numpy as np\n",
    "import pandas as pd\n",
    "from tqdm import tqdm\n",
    "import optuna\n",
    "\n",
    "import torch\n",
    "import torch.nn as nn\n",
    "\n",
    "import transformers\n",
    "from transformers import (\n",
    "    AutoModelForCausalLM, \n",
    "    AutoTokenizer, \n",
    "    BitsAndBytesConfig, \n",
    "    TrainingArguments, \n",
    "    pipeline, \n",
    "    logging\n",
    ")\n",
    "from datasets import Dataset, load_dataset\n",
    "from peft import LoraConfig, PeftConfig\n",
    "import bitsandbytes as bnb\n",
    "from trl import SFTTrainer\n",
    "\n",
    "from sklearn.metrics import (\n",
    "    accuracy_score, \n",
    "    classification_report, \n",
    "    confusion_matrix\n",
    ")\n",
    "from sklearn.model_selection import train_test_split\n",
    "\n",
    "print(f\"transformers=={transformers.__version__}\")\n",
    "print(f\"PyTorch version: {torch.__version__}\")\n",
    "print(f\"CUDA available: {torch.cuda.is_available()}\")\n",
    "print(f\"Optuna version: {optuna.__version__}\")\n",
    "\n",
    "# Set random seeds for reproducibility\n",
    "np.random.seed(42)\n",
    "torch.manual_seed(42)\n",
    "if torch.cuda.is_available():\n",
    "    torch.cuda.manual_seed(42)"
   ]
  },
  {
   "cell_type": "markdown",
   "metadata": {},
   "source": [
    "## Load and Prepare Dataset"
   ]
  },
  {
   "cell_type": "code",
   "execution_count": 3,
   "metadata": {},
   "outputs": [
    {
     "name": "stdout",
     "output_type": "stream",
     "text": [
      "Loading FinancialPhraseBank dataset with 100% annotator agreement...\n",
      "Dataset loaded successfully!\n",
      "Dataset info: DatasetDict({\n",
      "    train: Dataset({\n",
      "        features: ['sentence', 'label'],\n",
      "        num_rows: 2264\n",
      "    })\n",
      "})\n",
      "\n",
      "Dataset shape: (2264, 2)\n",
      "Sentiment distribution:\n",
      "sentiment\n",
      "1    1391\n",
      "2     570\n",
      "0     303\n",
      "Name: count, dtype: int64\n",
      "\n",
      "Processing negative sentiment: 303 samples\n",
      "  Final sizes - Train: 100, Val: 30, Test: 30\n",
      "\n",
      "Processing neutral sentiment: 1391 samples\n",
      "  Final sizes - Train: 100, Val: 30, Test: 30\n",
      "\n",
      "Processing positive sentiment: 570 samples\n",
      "  Final sizes - Train: 100, Val: 30, Test: 30\n",
      "\n",
      "Final split sizes:\n",
      "Training set: 300 samples\n",
      "Validation set: 90 samples\n",
      "Test set: 90 samples\n",
      "\n",
      "Training set distribution:\n",
      "sentiment\n",
      "0    100\n",
      "1    100\n",
      "2    100\n",
      "Name: count, dtype: int64\n",
      "\n",
      "Validation set distribution:\n",
      "sentiment\n",
      "2    30\n",
      "0    30\n",
      "1    30\n",
      "Name: count, dtype: int64\n"
     ]
    }
   ],
   "source": [
    "print(\"Loading FinancialPhraseBank dataset with 100% annotator agreement...\")\n",
    "\n",
    "# Load the dataset from HuggingFace\n",
    "dataset = load_dataset(\"takala/financial_phrasebank\", \"sentences_allagree\")\n",
    "\n",
    "print(f\"Dataset loaded successfully!\")\n",
    "print(f\"Dataset info: {dataset}\")\n",
    "\n",
    "# Convert to pandas for easier manipulation\n",
    "df = dataset['train'].to_pandas()\n",
    "df = df.rename(columns={'sentence': 'text', 'label': 'sentiment'})\n",
    "\n",
    "print(f\"\\nDataset shape: {df.shape}\")\n",
    "print(f\"Sentiment distribution:\")\n",
    "print(df['sentiment'].value_counts())\n",
    "\n",
    "# Create balanced splits for each sentiment class\n",
    "X_train = []\n",
    "X_val = []\n",
    "X_test = []\n",
    "\n",
    "random_state = 42\n",
    "label_mapping = {0: \"negative\", 1: \"neutral\", 2: \"positive\"}\n",
    "\n",
    "# Use smaller splits for hyperparameter tuning to speed up process\n",
    "train_size_per_class = 100  # Reduced for faster tuning\n",
    "val_size_per_class = 30\n",
    "test_size_per_class = 30\n",
    "\n",
    "for sentiment_label in [0, 1, 2]:\n",
    "    sentiment_name = label_mapping[sentiment_label]\n",
    "    sentiment_data = df[df.sentiment == sentiment_label]\n",
    "    print(f\"\\nProcessing {sentiment_name} sentiment: {len(sentiment_data)} samples\")\n",
    "    \n",
    "    if len(sentiment_data) == 0:\n",
    "        continue\n",
    "    \n",
    "    # Adjust split sizes if needed\n",
    "    actual_test_size = min(test_size_per_class, len(sentiment_data) // 3)\n",
    "    actual_val_size = min(val_size_per_class, len(sentiment_data) // 3)\n",
    "    actual_train_size = min(train_size_per_class, len(sentiment_data) - actual_test_size - actual_val_size)\n",
    "    \n",
    "    # Split data\n",
    "    if actual_test_size > 0:\n",
    "        temp_data, test_data = train_test_split(\n",
    "            sentiment_data, \n",
    "            test_size=actual_test_size,\n",
    "            random_state=random_state\n",
    "        )\n",
    "    else:\n",
    "        temp_data = sentiment_data\n",
    "        test_data = pd.DataFrame()\n",
    "    \n",
    "    if actual_val_size > 0 and len(temp_data) > actual_val_size:\n",
    "        train_data, val_data = train_test_split(\n",
    "            temp_data,\n",
    "            test_size=actual_val_size,\n",
    "            train_size=actual_train_size,\n",
    "            random_state=random_state\n",
    "        )\n",
    "    else:\n",
    "        train_data = temp_data\n",
    "        val_data = pd.DataFrame()\n",
    "    \n",
    "    print(f\"  Final sizes - Train: {len(train_data)}, Val: {len(val_data)}, Test: {len(test_data)}\")\n",
    "    \n",
    "    if len(train_data) > 0:\n",
    "        X_train.append(train_data)\n",
    "    if len(val_data) > 0:\n",
    "        X_val.append(val_data)\n",
    "    if len(test_data) > 0:\n",
    "        X_test.append(test_data)\n",
    "\n",
    "# Combine and shuffle\n",
    "X_train = pd.concat(X_train).sample(frac=1, random_state=10).reset_index(drop=True)\n",
    "X_val = pd.concat(X_val).sample(frac=1, random_state=10).reset_index(drop=True)\n",
    "X_test = pd.concat(X_test).sample(frac=1, random_state=10).reset_index(drop=True)\n",
    "\n",
    "print(f\"\\nFinal split sizes:\")\n",
    "print(f\"Training set: {len(X_train)} samples\")\n",
    "print(f\"Validation set: {len(X_val)} samples\")\n",
    "print(f\"Test set: {len(X_test)} samples\")\n",
    "\n",
    "print(f\"\\nTraining set distribution:\")\n",
    "print(X_train['sentiment'].value_counts())\n",
    "print(f\"\\nValidation set distribution:\")\n",
    "print(X_val['sentiment'].value_counts())"
   ]
  },
  {
   "cell_type": "markdown",
   "metadata": {},
   "source": [
    "## Define Helper Functions"
   ]
  },
  {
   "cell_type": "code",
   "execution_count": 4,
   "metadata": {},
   "outputs": [
    {
     "name": "stdout",
     "output_type": "stream",
     "text": [
      "Helper functions defined!\n"
     ]
    }
   ],
   "source": [
    "def clear_memory():\n",
    "    \"\"\"Clear GPU and system memory\"\"\"\n",
    "    if torch.cuda.is_available():\n",
    "        torch.cuda.empty_cache()\n",
    "        torch.cuda.synchronize()\n",
    "    gc.collect()\n",
    "    print(\"Memory cleared\")\n",
    "\n",
    "def generate_prompt(data_point, include_answer=True):\n",
    "    \"\"\"Generate training prompt\"\"\"\n",
    "    label_mapping = {0: \"negative\", 1: \"neutral\", 2: \"positive\"}\n",
    "    \n",
    "    base_prompt = f\"\"\"Analyze the sentiment of the news headline enclosed in square brackets, \n",
    "determine if it is positive, neutral, or negative, and return the answer as \n",
    "the corresponding sentiment label \"positive\" or \"neutral\" or \"negative\"\n",
    "\n",
    "[{data_point[\"text\"]}] = \"\"\".strip()\n",
    "    \n",
    "    if include_answer:\n",
    "        sentiment_text = label_mapping[data_point[\"sentiment\"]]\n",
    "        return base_prompt + sentiment_text + \"</s>\"  # Use Gemma's EOS token\n",
    "    else:\n",
    "        return base_prompt\n",
    "\n",
    "def evaluate_model(model, tokenizer, X_val):\n",
    "    \"\"\"Evaluate model on validation set and return accuracy\"\"\"\n",
    "    y_true = []\n",
    "    y_pred = []\n",
    "    label_mapping = {0: \"negative\", 1: \"neutral\", 2: \"positive\"}\n",
    "    \n",
    "    model.eval()\n",
    "    with torch.no_grad():\n",
    "        for _, row in X_val.iterrows():\n",
    "            prompt = generate_prompt(row, include_answer=False)\n",
    "            input_ids = tokenizer(prompt, return_tensors=\"pt\", truncation=True, max_length=512).to(\"cuda\")\n",
    "            \n",
    "            outputs = model.generate(\n",
    "                **input_ids, \n",
    "                max_new_tokens=1, \n",
    "                temperature=0.0,\n",
    "                do_sample=False,\n",
    "                pad_token_id=tokenizer.eos_token_id\n",
    "            )\n",
    "            \n",
    "            result = tokenizer.decode(outputs[0])\n",
    "            answer = result.split(\"=\")[-1].lower().strip()\n",
    "            \n",
    "            # Extract predicted sentiment\n",
    "            if \"positive\" in answer:\n",
    "                predicted_sentiment = \"positive\"\n",
    "            elif \"negative\" in answer:\n",
    "                predicted_sentiment = \"negative\"\n",
    "            elif \"neutral\" in answer:\n",
    "                predicted_sentiment = \"neutral\"\n",
    "            else:\n",
    "                predicted_sentiment = \"neutral\"  # Default fallback\n",
    "            \n",
    "            true_sentiment = label_mapping[row[\"sentiment\"]]\n",
    "            \n",
    "            y_true.append(true_sentiment)\n",
    "            y_pred.append(predicted_sentiment)\n",
    "    \n",
    "    # Calculate accuracy\n",
    "    accuracy = accuracy_score(y_true, y_pred)\n",
    "    return accuracy\n",
    "\n",
    "print(\"Helper functions defined!\")"
   ]
  },
  {
   "cell_type": "markdown",
   "metadata": {},
   "source": [
    "## Define Optuna Objective Function"
   ]
  },
  {
   "cell_type": "code",
   "execution_count": 5,
   "metadata": {},
   "outputs": [
    {
     "name": "stdout",
     "output_type": "stream",
     "text": [
      "Objective function defined!\n"
     ]
    }
   ],
   "source": [
    "def objective(trial):\n",
    "    \"\"\"Optuna objective function to maximize validation accuracy\"\"\"\n",
    "    \n",
    "    print(f\"\\n{'='*60}\")\n",
    "    print(f\"TRIAL {trial.number + 1}\")\n",
    "    print(f\"{'='*60}\")\n",
    "    \n",
    "    # Suggest hyperparameters\n",
    "    learning_rate = trial.suggest_float('learning_rate', 1e-5, 5e-4, log=True)\n",
    "    batch_size = trial.suggest_categorical('batch_size', [1, 2, 4])\n",
    "    num_epochs = trial.suggest_int('num_epochs', 1, 5)\n",
    "    \n",
    "    print(f\"Hyperparameters for Trial {trial.number + 1}:\")\n",
    "    print(f\"  Learning Rate: {learning_rate:.2e}\")\n",
    "    print(f\"  Batch Size: {batch_size}\")\n",
    "    print(f\"  Number of Epochs: {num_epochs}\")\n",
    "    \n",
    "    try:\n",
    "        # Clear memory before starting\n",
    "        clear_memory()\n",
    "        \n",
    "        # Load fresh model for this trial\n",
    "        print(\"\\nLoading fresh Gemma model...\")\n",
    "        model_name = \"google/gemma-7b\"\n",
    "        \n",
    "        compute_dtype = getattr(torch, \"float16\")\n",
    "        bnb_config = BitsAndBytesConfig(\n",
    "            load_in_4bit=True,\n",
    "            bnb_4bit_use_double_quant=False,\n",
    "            bnb_4bit_quant_type=\"nf4\",\n",
    "            bnb_4bit_compute_dtype=compute_dtype,\n",
    "        )\n",
    "        \n",
    "        model = AutoModelForCausalLM.from_pretrained(\n",
    "            model_name,\n",
    "            device_map=\"auto\",\n",
    "            quantization_config=bnb_config,\n",
    "        )\n",
    "        \n",
    "        model.config.use_cache = False\n",
    "        model.config.pretraining_tp = 1\n",
    "        \n",
    "        # Load tokenizer\n",
    "        max_seq_length = 2048\n",
    "        tokenizer = AutoTokenizer.from_pretrained(model_name, max_seq_length=max_seq_length)\n",
    "        \n",
    "        # Prepare training data\n",
    "        print(\"Preparing training data...\")\n",
    "        train_prompts = pd.DataFrame(\n",
    "            X_train.apply(lambda x: generate_prompt(x, include_answer=True), axis=1), \n",
    "            columns=[\"text\"]\n",
    "        )\n",
    "        \n",
    "        val_prompts = pd.DataFrame(\n",
    "            X_val.apply(lambda x: generate_prompt(x, include_answer=True), axis=1), \n",
    "            columns=[\"text\"]\n",
    "        )\n",
    "        \n",
    "        train_data = Dataset.from_pandas(train_prompts)\n",
    "        eval_data = Dataset.from_pandas(val_prompts)\n",
    "        \n",
    "        # Configure LoRA\n",
    "        peft_config = LoraConfig(\n",
    "            lora_alpha=16,\n",
    "            lora_dropout=0,\n",
    "            r=64,\n",
    "            bias=\"none\",\n",
    "            task_type=\"CAUSAL_LM\",\n",
    "            target_modules=[\"q_proj\", \"k_proj\", \"v_proj\", \"o_proj\",\n",
    "                            \"gate_proj\", \"up_proj\", \"down_proj\"],\n",
    "        )\n",
    "        \n",
    "        # Configure training arguments\n",
    "        output_dir = f\"temp_trial_{trial.number}\"\n",
    "        training_steps = len(train_data) // (batch_size * 8)  # Assuming grad_accum=8\n",
    "        \n",
    "        training_arguments = TrainingArguments(\n",
    "            output_dir=output_dir,\n",
    "            num_train_epochs=num_epochs,\n",
    "            gradient_checkpointing=True,\n",
    "            per_device_train_batch_size=batch_size,\n",
    "            gradient_accumulation_steps=8,\n",
    "            optim=\"paged_adamw_32bit\",\n",
    "            save_steps=0,  # Don't save checkpoints\n",
    "            logging_steps=max(training_steps // 5, 1),\n",
    "            learning_rate=learning_rate,\n",
    "            weight_decay=0.001,\n",
    "            fp16=True,\n",
    "            bf16=False,\n",
    "            max_grad_norm=0.3,\n",
    "            max_steps=-1,\n",
    "            warmup_ratio=0.03,\n",
    "            group_by_length=False,\n",
    "            evaluation_strategy='no',  # Skip evaluation during training for speed\n",
    "            lr_scheduler_type=\"cosine\",\n",
    "            report_to=None,  # Disable reporting for speed\n",
    "        )\n",
    "        \n",
    "        # Initialize trainer\n",
    "        trainer = SFTTrainer(\n",
    "            model=model,\n",
    "            train_dataset=train_data,\n",
    "            eval_dataset=eval_data,\n",
    "            peft_config=peft_config,\n",
    "            dataset_text_field=\"text\",\n",
    "            tokenizer=tokenizer,\n",
    "            max_seq_length=max_seq_length,\n",
    "            args=training_arguments,\n",
    "            packing=False,\n",
    "        )\n",
    "        \n",
    "        # Train the model\n",
    "        print(f\"\\nStarting training for {num_epochs} epochs...\")\n",
    "        trainer.train()\n",
    "        \n",
    "        # Evaluate the model\n",
    "        print(\"\\nEvaluating model...\")\n",
    "        accuracy = evaluate_model(model, tokenizer, X_val)\n",
    "        \n",
    "        print(f\"\\nTrial {trial.number + 1} Results:\")\n",
    "        print(f\"  Validation Accuracy: {accuracy:.4f}\")\n",
    "        \n",
    "        # Clean up\n",
    "        del model\n",
    "        del trainer\n",
    "        del tokenizer\n",
    "        \n",
    "        # Remove temporary directory\n",
    "        if os.path.exists(output_dir):\n",
    "            shutil.rmtree(output_dir)\n",
    "        \n",
    "        clear_memory()\n",
    "        \n",
    "        return accuracy\n",
    "        \n",
    "    except Exception as e:\n",
    "        print(f\"\\nError in trial {trial.number + 1}: {str(e)}\")\n",
    "        # Clean up on error\n",
    "        clear_memory()\n",
    "        return 0.0  # Return low score for failed trials\n",
    "\n",
    "print(\"Objective function defined!\")"
   ]
  },
  {
   "cell_type": "markdown",
   "metadata": {},
   "source": [
    "## Run Hyperparameter Tuning"
   ]
  },
  {
   "cell_type": "code",
   "execution_count": 6,
   "metadata": {},
   "outputs": [
    {
     "name": "stdout",
     "output_type": "stream",
     "text": [
      "Starting Optuna hyperparameter tuning...\n",
      "Number of trials: 5\n",
      "Wait time between trials: 60 seconds\n"
     ]
    },
    {
     "name": "stderr",
     "output_type": "stream",
     "text": [
      "[I 2025-07-01 01:24:05,136] A new study created in RDB with name: gemma_hyperparameter_tuning_20250701_012404\n"
     ]
    },
    {
     "name": "stdout",
     "output_type": "stream",
     "text": [
      "Study created: gemma_hyperparameter_tuning_20250701_012404\n",
      "\n",
      "================================================================================\n",
      "STARTING TRIAL 1 OF 5\n",
      "================================================================================\n",
      "\n",
      "============================================================\n",
      "TRIAL 1\n",
      "============================================================\n",
      "Hyperparameters for Trial 1:\n",
      "  Learning Rate: 1.50e-05\n",
      "  Batch Size: 2\n",
      "  Number of Epochs: 4\n",
      "Memory cleared\n",
      "\n",
      "Loading fresh Gemma model...\n"
     ]
    },
    {
     "data": {
      "application/vnd.jupyter.widget-view+json": {
       "model_id": "b6c4a077479d4a99892941ae932b37cb",
       "version_major": 2,
       "version_minor": 0
      },
      "text/plain": [
       "Loading checkpoint shards:   0%|          | 0/4 [00:00<?, ?it/s]"
      ]
     },
     "metadata": {},
     "output_type": "display_data"
    },
    {
     "name": "stdout",
     "output_type": "stream",
     "text": [
      "Preparing training data...\n"
     ]
    },
    {
     "data": {
      "application/vnd.jupyter.widget-view+json": {
       "model_id": "9bc5b8bfd8b543fcba900207e04d2587",
       "version_major": 2,
       "version_minor": 0
      },
      "text/plain": [
       "Map:   0%|          | 0/300 [00:00<?, ? examples/s]"
      ]
     },
     "metadata": {},
     "output_type": "display_data"
    },
    {
     "data": {
      "application/vnd.jupyter.widget-view+json": {
       "model_id": "df006b46b8a2453fbc834db22cb04026",
       "version_major": 2,
       "version_minor": 0
      },
      "text/plain": [
       "Map:   0%|          | 0/90 [00:00<?, ? examples/s]"
      ]
     },
     "metadata": {},
     "output_type": "display_data"
    },
    {
     "name": "stdout",
     "output_type": "stream",
     "text": [
      "\n",
      "Starting training for 4 epochs...\n"
     ]
    },
    {
     "data": {
      "application/vnd.jupyter.widget-view+json": {
       "model_id": "09b7b12e8b614302a6dcf280ef811f60",
       "version_major": 2,
       "version_minor": 0
      },
      "text/plain": [
       "  0%|          | 0/72 [00:00<?, ?it/s]"
      ]
     },
     "metadata": {},
     "output_type": "display_data"
    },
    {
     "name": "stdout",
     "output_type": "stream",
     "text": [
      "{'loss': 6.09, 'grad_norm': 35.69955825805664, 'learning_rate': 4.997815301102062e-06, 'epoch': 0.16}\n",
      "{'loss': 5.3851, 'grad_norm': nan, 'learning_rate': 9.995630602204123e-06, 'epoch': 0.32}\n",
      "{'loss': 5.7938, 'grad_norm': inf, 'learning_rate': 1.4985676851748206e-05, 'epoch': 0.48}\n",
      "{'loss': 4.0691, 'grad_norm': 264.4466552734375, 'learning_rate': 1.4869462862362575e-05, 'epoch': 0.64}\n",
      "{'loss': 2.6681, 'grad_norm': 4.349188327789307, 'learning_rate': 1.461590867820005e-05, 'epoch': 0.8}\n",
      "{'loss': 2.3802, 'grad_norm': 3.7852556705474854, 'learning_rate': 1.422973753396864e-05, 'epoch': 0.96}\n",
      "{'loss': 2.1332, 'grad_norm': 2.3727943897247314, 'learning_rate': 1.3718143067421515e-05, 'epoch': 1.12}\n",
      "{'loss': 1.972, 'grad_norm': 1.9359291791915894, 'learning_rate': 1.3090655315496539e-05, 'epoch': 1.28}\n",
      "{'loss': 1.6785, 'grad_norm': 2.0539944171905518, 'learning_rate': 1.2358963187759657e-05, 'epoch': 1.44}\n",
      "{'loss': 1.4582, 'grad_norm': 4.3124165534973145, 'learning_rate': 1.1536696724135934e-05, 'epoch': 1.6}\n",
      "{'loss': 1.3239, 'grad_norm': 1.8351945877075195, 'learning_rate': 1.0639173193054781e-05, 'epoch': 1.76}\n",
      "{'loss': 1.2722, 'grad_norm': 1.7604092359542847, 'learning_rate': 9.683111759720509e-06, 'epoch': 1.92}\n",
      "{'loss': 1.2052, 'grad_norm': 1.7756675481796265, 'learning_rate': 8.68632203969843e-06, 'epoch': 2.08}\n",
      "{'loss': 1.0931, 'grad_norm': 0.8737057447433472, 'learning_rate': 7.66737233947398e-06, 'epoch': 2.24}\n",
      "{'loss': 1.0948, 'grad_norm': 0.9297873377799988, 'learning_rate': 6.645243764035469e-06, 'epoch': 2.4}\n",
      "{'loss': 1.1557, 'grad_norm': 0.8878552317619324, 'learning_rate': 5.638976634801784e-06, 'epoch': 2.56}\n",
      "{'loss': 1.016, 'grad_norm': 1.0240678787231445, 'learning_rate': 4.667315804460018e-06, 'epoch': 2.72}\n",
      "{'loss': 1.0645, 'grad_norm': 0.921367883682251, 'learning_rate': 3.7483614758265484e-06, 'epoch': 2.88}\n",
      "{'loss': 1.0098, 'grad_norm': 0.795116662979126, 'learning_rate': 2.89923202931545e-06, 'epoch': 3.04}\n",
      "{'loss': 1.008, 'grad_norm': 0.8343665599822998, 'learning_rate': 2.1357451399006197e-06, 'epoch': 3.2}\n",
      "{'loss': 1.0309, 'grad_norm': 0.8617469668388367, 'learning_rate': 1.4721231237591812e-06, 'epoch': 3.36}\n",
      "{'loss': 0.9985, 'grad_norm': 0.8127099871635437, 'learning_rate': 9.207280034307758e-07, 'epoch': 3.52}\n",
      "{'loss': 1.038, 'grad_norm': 0.7754180431365967, 'learning_rate': 4.918312267274877e-07, 'epoch': 3.68}\n",
      "{'loss': 1.0371, 'grad_norm': 0.9228248596191406, 'learning_rate': 1.9342232909543404e-07, 'epoch': 3.84}\n",
      "{'train_runtime': 1102.5344, 'train_samples_per_second': 1.088, 'train_steps_per_second': 0.065, 'train_loss': 2.040657295121087, 'epoch': 3.84}\n",
      "\n",
      "Evaluating model...\n",
      "\n",
      "Trial 1 Results:\n",
      "  Validation Accuracy: 0.8889\n"
     ]
    },
    {
     "name": "stderr",
     "output_type": "stream",
     "text": [
      "[I 2025-07-01 01:45:03,996] Trial 0 finished with value: 0.8888888888888888 and parameters: {'learning_rate': 1.4993445903306187e-05, 'batch_size': 2, 'num_epochs': 4}. Best is trial 0 with value: 0.8888888888888888.\n"
     ]
    },
    {
     "name": "stdout",
     "output_type": "stream",
     "text": [
      "Memory cleared\n",
      "\n",
      "Current best trial:\n",
      "  Trial number: 1\n",
      "  Best accuracy: 0.8889\n",
      "  Best parameters: {'learning_rate': 1.4993445903306187e-05, 'batch_size': 2, 'num_epochs': 4}\n",
      "\n",
      "Waiting 60 seconds before next trial...\n",
      "Memory cleared\n",
      "\n",
      "================================================================================\n",
      "STARTING TRIAL 2 OF 5\n",
      "================================================================================\n",
      "\n",
      "============================================================\n",
      "TRIAL 2\n",
      "============================================================\n",
      "Hyperparameters for Trial 2:\n",
      "  Learning Rate: 9.42e-05\n",
      "  Batch Size: 1\n",
      "  Number of Epochs: 4\n",
      "Memory cleared\n",
      "\n",
      "Loading fresh Gemma model...\n"
     ]
    },
    {
     "data": {
      "application/vnd.jupyter.widget-view+json": {
       "model_id": "c62d2e9f83234cd1ac9650c6fe8cdee8",
       "version_major": 2,
       "version_minor": 0
      },
      "text/plain": [
       "Loading checkpoint shards:   0%|          | 0/4 [00:00<?, ?it/s]"
      ]
     },
     "metadata": {},
     "output_type": "display_data"
    },
    {
     "name": "stdout",
     "output_type": "stream",
     "text": [
      "Preparing training data...\n"
     ]
    },
    {
     "data": {
      "application/vnd.jupyter.widget-view+json": {
       "model_id": "9aa68c56424e4e2ea9d507507f7b0be4",
       "version_major": 2,
       "version_minor": 0
      },
      "text/plain": [
       "Map:   0%|          | 0/300 [00:00<?, ? examples/s]"
      ]
     },
     "metadata": {},
     "output_type": "display_data"
    },
    {
     "data": {
      "application/vnd.jupyter.widget-view+json": {
       "model_id": "69466ef766a342b59c60b0d5072a40f7",
       "version_major": 2,
       "version_minor": 0
      },
      "text/plain": [
       "Map:   0%|          | 0/90 [00:00<?, ? examples/s]"
      ]
     },
     "metadata": {},
     "output_type": "display_data"
    },
    {
     "name": "stdout",
     "output_type": "stream",
     "text": [
      "\n",
      "Starting training for 4 epochs...\n"
     ]
    },
    {
     "data": {
      "application/vnd.jupyter.widget-view+json": {
       "model_id": "407a0371a0db4d2bb181a45c66bb6014",
       "version_major": 2,
       "version_minor": 0
      },
      "text/plain": [
       "  0%|          | 0/148 [00:00<?, ?it/s]"
      ]
     },
     "metadata": {},
     "output_type": "display_data"
    },
    {
     "name": "stdout",
     "output_type": "stream",
     "text": [
      "{'loss': 2.5723, 'grad_norm': 2.32041072845459, 'learning_rate': 9.423217301629628e-05, 'epoch': 0.19}\n",
      "{'loss': 1.2924, 'grad_norm': 1.3352062702178955, 'learning_rate': 9.351763698107881e-05, 'epoch': 0.37}\n",
      "{'loss': 1.038, 'grad_norm': 1.5407686233520508, 'learning_rate': 9.170801816609864e-05, 'epoch': 0.56}\n",
      "{'loss': 0.9496, 'grad_norm': 1.702755093574524, 'learning_rate': 8.884602905026188e-05, 'epoch': 0.75}\n",
      "{'loss': 0.7917, 'grad_norm': 0.729846715927124, 'learning_rate': 8.499922123544612e-05, 'epoch': 0.93}\n",
      "{'loss': 0.7386, 'grad_norm': 0.9947212338447571, 'learning_rate': 8.025839102432352e-05, 'epoch': 1.12}\n",
      "{'loss': 0.7052, 'grad_norm': 0.6794397234916687, 'learning_rate': 7.473543635292007e-05, 'epoch': 1.31}\n",
      "{'loss': 0.6532, 'grad_norm': 0.759273886680603, 'learning_rate': 6.85607156607861e-05, 'epoch': 1.49}\n",
      "{'loss': 0.674, 'grad_norm': 0.9265498518943787, 'learning_rate': 6.187997103743279e-05, 'epoch': 1.68}\n",
      "{'loss': 0.672, 'grad_norm': 0.693241536617279, 'learning_rate': 5.4850888268087345e-05, 'epoch': 1.87}\n",
      "{'loss': 0.6829, 'grad_norm': 0.7345274686813354, 'learning_rate': 4.763937497209466e-05, 'epoch': 2.05}\n",
      "{'loss': 0.5007, 'grad_norm': 0.8664504289627075, 'learning_rate': 4.0415644681158966e-05, 'epoch': 2.24}\n",
      "{'loss': 0.5147, 'grad_norm': 1.1676530838012695, 'learning_rate': 3.3350199285026846e-05, 'epoch': 2.43}\n",
      "{'loss': 0.4806, 'grad_norm': 0.9237760901451111, 'learning_rate': 2.660980467104784e-05, 'epoch': 2.61}\n",
      "{'loss': 0.4584, 'grad_norm': 1.1830390691757202, 'learning_rate': 2.0353554544694734e-05, 'epoch': 2.8}\n",
      "{'loss': 0.4727, 'grad_norm': 1.045086145401001, 'learning_rate': 1.4729115336787764e-05, 'epoch': 2.99}\n",
      "{'loss': 0.3884, 'grad_norm': 0.8377742171287537, 'learning_rate': 9.869240828972981e-06, 'epoch': 3.17}\n",
      "{'loss': 0.3669, 'grad_norm': 0.9771188497543335, 'learning_rate': 5.8886387628383064e-06, 'epoch': 3.36}\n",
      "{'loss': 0.3585, 'grad_norm': 1.3686286211013794, 'learning_rate': 2.881263390172e-06, 'epoch': 3.55}\n",
      "{'loss': 0.3537, 'grad_norm': 1.0167796611785889, 'learning_rate': 9.180978683685709e-07, 'epoch': 3.73}\n",
      "{'loss': 0.3473, 'grad_norm': 1.2073266506195068, 'learning_rate': 4.547884315976072e-08, 'epoch': 3.92}\n",
      "{'train_runtime': 2605.4358, 'train_samples_per_second': 0.461, 'train_steps_per_second': 0.057, 'train_loss': 0.7127341511281761, 'epoch': 3.95}\n",
      "\n",
      "Evaluating model...\n",
      "\n",
      "Trial 2 Results:\n",
      "  Validation Accuracy: 0.9778\n"
     ]
    },
    {
     "name": "stderr",
     "output_type": "stream",
     "text": [
      "[I 2025-07-01 02:32:20,834] Trial 1 finished with value: 0.9777777777777777 and parameters: {'learning_rate': 9.424354409907966e-05, 'batch_size': 1, 'num_epochs': 4}. Best is trial 1 with value: 0.9777777777777777.\n"
     ]
    },
    {
     "name": "stdout",
     "output_type": "stream",
     "text": [
      "Memory cleared\n",
      "\n",
      "Current best trial:\n",
      "  Trial number: 2\n",
      "  Best accuracy: 0.9778\n",
      "  Best parameters: {'learning_rate': 9.424354409907966e-05, 'batch_size': 1, 'num_epochs': 4}\n",
      "\n",
      "Waiting 60 seconds before next trial...\n",
      "Memory cleared\n",
      "\n",
      "================================================================================\n",
      "STARTING TRIAL 3 OF 5\n",
      "================================================================================\n",
      "\n",
      "============================================================\n",
      "TRIAL 3\n",
      "============================================================\n",
      "Hyperparameters for Trial 3:\n",
      "  Learning Rate: 5.43e-05\n",
      "  Batch Size: 2\n",
      "  Number of Epochs: 4\n",
      "Memory cleared\n",
      "\n",
      "Loading fresh Gemma model...\n"
     ]
    },
    {
     "data": {
      "application/vnd.jupyter.widget-view+json": {
       "model_id": "c4056085995b4c3384ee9f26a3d3d210",
       "version_major": 2,
       "version_minor": 0
      },
      "text/plain": [
       "Loading checkpoint shards:   0%|          | 0/4 [00:00<?, ?it/s]"
      ]
     },
     "metadata": {},
     "output_type": "display_data"
    },
    {
     "name": "stdout",
     "output_type": "stream",
     "text": [
      "Preparing training data...\n"
     ]
    },
    {
     "data": {
      "application/vnd.jupyter.widget-view+json": {
       "model_id": "3695ed6f29eb42558c4f891b4bb1a6d2",
       "version_major": 2,
       "version_minor": 0
      },
      "text/plain": [
       "Map:   0%|          | 0/300 [00:00<?, ? examples/s]"
      ]
     },
     "metadata": {},
     "output_type": "display_data"
    },
    {
     "data": {
      "application/vnd.jupyter.widget-view+json": {
       "model_id": "434ae66e741f431388ca2dc4a56f4b0f",
       "version_major": 2,
       "version_minor": 0
      },
      "text/plain": [
       "Map:   0%|          | 0/90 [00:00<?, ? examples/s]"
      ]
     },
     "metadata": {},
     "output_type": "display_data"
    },
    {
     "name": "stdout",
     "output_type": "stream",
     "text": [
      "\n",
      "Starting training for 4 epochs...\n"
     ]
    },
    {
     "data": {
      "application/vnd.jupyter.widget-view+json": {
       "model_id": "f903eda0bf3048f9a793561bec8a79ef",
       "version_major": 2,
       "version_minor": 0
      },
      "text/plain": [
       "  0%|          | 0/72 [00:00<?, ?it/s]"
      ]
     },
     "metadata": {},
     "output_type": "display_data"
    },
    {
     "name": "stdout",
     "output_type": "stream",
     "text": [
      "{'loss': 6.09, 'grad_norm': 36.35741424560547, 'learning_rate': 1.808944898904157e-05, 'epoch': 0.16}\n",
      "{'loss': 5.3329, 'grad_norm': nan, 'learning_rate': 3.617889797808314e-05, 'epoch': 0.32}\n",
      "{'loss': 5.2601, 'grad_norm': 259.9085388183594, 'learning_rate': 5.424022710806943e-05, 'epoch': 0.48}\n",
      "{'loss': 2.3732, 'grad_norm': 2.334230661392212, 'learning_rate': 5.3819593910131755e-05, 'epoch': 0.64}\n",
      "{'loss': 1.7342, 'grad_norm': 1.7906463146209717, 'learning_rate': 5.290186182040154e-05, 'epoch': 0.8}\n",
      "{'loss': 1.2313, 'grad_norm': 2.0194311141967773, 'learning_rate': 5.150412645129466e-05, 'epoch': 0.96}\n",
      "{'loss': 1.0819, 'grad_norm': 1.427247405052185, 'learning_rate': 4.965242496812071e-05, 'epoch': 1.12}\n",
      "{'loss': 1.0419, 'grad_norm': 1.4029343128204346, 'learning_rate': 4.738125106595745e-05, 'epoch': 1.28}\n",
      "{'loss': 0.9272, 'grad_norm': 1.4805622100830078, 'learning_rate': 4.473291241737614e-05, 'epoch': 1.44}\n",
      "{'loss': 0.9426, 'grad_norm': 0.863046407699585, 'learning_rate': 4.175674256055069e-05, 'epoch': 1.6}\n",
      "{'loss': 0.9462, 'grad_norm': 0.9080984592437744, 'learning_rate': 3.850818190878414e-05, 'epoch': 1.76}\n",
      "{'loss': 0.9755, 'grad_norm': 1.0153613090515137, 'learning_rate': 3.50477450005061e-05, 'epoch': 1.92}\n",
      "{'loss': 0.9176, 'grad_norm': 0.9519302248954773, 'learning_rate': 3.1439893227919725e-05, 'epoch': 2.08}\n",
      "{'loss': 0.7818, 'grad_norm': 0.7244484424591064, 'learning_rate': 2.775183404323058e-05, 'epoch': 2.24}\n",
      "{'loss': 0.7882, 'grad_norm': 0.7142138481140137, 'learning_rate': 2.4052269010973476e-05, 'epoch': 2.4}\n",
      "{'loss': 0.855, 'grad_norm': 0.7055703997612, 'learning_rate': 2.041011402785352e-05, 'epoch': 2.56}\n",
      "{'loss': 0.7279, 'grad_norm': 0.6463534235954285, 'learning_rate': 1.6893215549984338e-05, 'epoch': 2.72}\n",
      "{'loss': 0.7533, 'grad_norm': 0.6879894137382507, 'learning_rate': 1.3567086741781185e-05, 'epoch': 2.88}\n",
      "{'loss': 0.7023, 'grad_norm': 0.6360431909561157, 'learning_rate': 1.049368708966348e-05, 'epoch': 3.04}\n",
      "{'loss': 0.6728, 'grad_norm': 0.6539008617401123, 'learning_rate': 7.730268214054743e-06, 'epoch': 3.2}\n",
      "{'loss': 0.7155, 'grad_norm': 0.577385425567627, 'learning_rate': 5.328307380018247e-06, 'epoch': 3.36}\n",
      "{'loss': 0.6856, 'grad_norm': 0.6475034952163696, 'learning_rate': 3.3325485732076647e-06, 'epoch': 3.52}\n",
      "{'loss': 0.7143, 'grad_norm': 0.49663209915161133, 'learning_rate': 1.780169004073194e-06, 'epoch': 3.68}\n",
      "{'loss': 0.7027, 'grad_norm': 0.6891958713531494, 'learning_rate': 7.000865667728709e-07, 'epoch': 3.84}\n",
      "{'train_runtime': 8687.5758, 'train_samples_per_second': 0.138, 'train_steps_per_second': 0.008, 'train_loss': 1.5397485958205328, 'epoch': 3.84}\n",
      "\n",
      "Evaluating model...\n",
      "\n",
      "Trial 3 Results:\n",
      "  Validation Accuracy: 0.9556\n"
     ]
    },
    {
     "name": "stderr",
     "output_type": "stream",
     "text": [
      "[I 2025-07-01 05:03:40,648] Trial 2 finished with value: 0.9555555555555556 and parameters: {'learning_rate': 5.426834696712471e-05, 'batch_size': 2, 'num_epochs': 4}. Best is trial 1 with value: 0.9777777777777777.\n"
     ]
    },
    {
     "name": "stdout",
     "output_type": "stream",
     "text": [
      "Memory cleared\n",
      "\n",
      "Current best trial:\n",
      "  Trial number: 2\n",
      "  Best accuracy: 0.9778\n",
      "  Best parameters: {'learning_rate': 9.424354409907966e-05, 'batch_size': 1, 'num_epochs': 4}\n",
      "\n",
      "Waiting 60 seconds before next trial...\n",
      "Memory cleared\n",
      "\n",
      "================================================================================\n",
      "STARTING TRIAL 4 OF 5\n",
      "================================================================================\n",
      "\n",
      "============================================================\n",
      "TRIAL 4\n",
      "============================================================\n",
      "Hyperparameters for Trial 4:\n",
      "  Learning Rate: 6.46e-05\n",
      "  Batch Size: 1\n",
      "  Number of Epochs: 3\n",
      "Memory cleared\n",
      "\n",
      "Loading fresh Gemma model...\n"
     ]
    },
    {
     "data": {
      "application/vnd.jupyter.widget-view+json": {
       "model_id": "0f0479cbbe7644f99c6a37b063b88c3c",
       "version_major": 2,
       "version_minor": 0
      },
      "text/plain": [
       "Loading checkpoint shards:   0%|          | 0/4 [00:00<?, ?it/s]"
      ]
     },
     "metadata": {},
     "output_type": "display_data"
    },
    {
     "name": "stdout",
     "output_type": "stream",
     "text": [
      "Preparing training data...\n"
     ]
    },
    {
     "data": {
      "application/vnd.jupyter.widget-view+json": {
       "model_id": "5942e84fc74c4318bdd1fa8deb108f16",
       "version_major": 2,
       "version_minor": 0
      },
      "text/plain": [
       "Map:   0%|          | 0/300 [00:00<?, ? examples/s]"
      ]
     },
     "metadata": {},
     "output_type": "display_data"
    },
    {
     "data": {
      "application/vnd.jupyter.widget-view+json": {
       "model_id": "aa1e416fe7c2408194ec5f9c119207be",
       "version_major": 2,
       "version_minor": 0
      },
      "text/plain": [
       "Map:   0%|          | 0/90 [00:00<?, ? examples/s]"
      ]
     },
     "metadata": {},
     "output_type": "display_data"
    },
    {
     "name": "stdout",
     "output_type": "stream",
     "text": [
      "\n",
      "Starting training for 3 epochs...\n"
     ]
    },
    {
     "data": {
      "application/vnd.jupyter.widget-view+json": {
       "model_id": "20fd6d0411014879a5092ea134aec849",
       "version_major": 2,
       "version_minor": 0
      },
      "text/plain": [
       "  0%|          | 0/111 [00:00<?, ?it/s]"
      ]
     },
     "metadata": {},
     "output_type": "display_data"
    },
    {
     "name": "stdout",
     "output_type": "stream",
     "text": [
      "{'loss': 2.6115, 'grad_norm': 2.2148995399475098, 'learning_rate': 6.457677108943598e-05, 'epoch': 0.19}\n",
      "{'loss': 1.4538, 'grad_norm': 11.296846389770508, 'learning_rate': 6.351076449217572e-05, 'epoch': 0.37}\n",
      "{'loss': 1.0813, 'grad_norm': 1.8572674989700317, 'learning_rate': 6.113171948984946e-05, 'epoch': 0.56}\n",
      "{'loss': 1.0045, 'grad_norm': 0.9116963744163513, 'learning_rate': 5.7539774715090635e-05, 'epoch': 0.75}\n",
      "{'loss': 0.8406, 'grad_norm': 0.8572925925254822, 'learning_rate': 5.288612211167813e-05, 'epoch': 0.93}\n",
      "{'loss': 0.7772, 'grad_norm': 1.0090490579605103, 'learning_rate': 4.73666429714753e-05, 'epoch': 1.12}\n",
      "{'loss': 0.7426, 'grad_norm': 0.8094181418418884, 'learning_rate': 4.1213662909763995e-05, 'epoch': 1.31}\n",
      "{'loss': 0.684, 'grad_norm': 0.8464077115058899, 'learning_rate': 3.4686172828102645e-05, 'epoch': 1.49}\n",
      "{'loss': 0.704, 'grad_norm': 0.8889649510383606, 'learning_rate': 2.8058927483407033e-05, 'epoch': 1.68}\n",
      "{'loss': 0.7204, 'grad_norm': 0.7738547921180725, 'learning_rate': 2.1610880525690157e-05, 'epoch': 1.87}\n",
      "{'loss': 0.7456, 'grad_norm': 0.8155651688575745, 'learning_rate': 1.561344279622259e-05, 'epoch': 2.05}\n",
      "{'loss': 0.5966, 'grad_norm': 0.73885577917099, 'learning_rate': 1.0319058117187519e-05, 'epoch': 2.24}\n",
      "{'loss': 0.6291, 'grad_norm': 0.9591494202613831, 'learning_rate': 5.9505774400698994e-06, 'epoch': 2.43}\n",
      "{'loss': 0.6151, 'grad_norm': 0.8782544732093811, 'learning_rate': 2.691878615546969e-06, 'epoch': 2.61}\n",
      "{'loss': 0.5702, 'grad_norm': 0.8281952142715454, 'learning_rate': 6.801266170146821e-07, 'epoch': 2.8}\n",
      "{'train_runtime': 4278.5087, 'train_samples_per_second': 0.21, 'train_steps_per_second': 0.026, 'train_loss': 0.9018259456565788, 'epoch': 2.96}\n",
      "\n",
      "Evaluating model...\n",
      "\n",
      "Trial 4 Results:\n",
      "  Validation Accuracy: 0.9556\n"
     ]
    },
    {
     "name": "stderr",
     "output_type": "stream",
     "text": [
      "[I 2025-07-01 06:29:38,762] Trial 3 finished with value: 0.9555555555555556 and parameters: {'learning_rate': 6.463247146906411e-05, 'batch_size': 1, 'num_epochs': 3}. Best is trial 1 with value: 0.9777777777777777.\n"
     ]
    },
    {
     "name": "stdout",
     "output_type": "stream",
     "text": [
      "Memory cleared\n",
      "\n",
      "Current best trial:\n",
      "  Trial number: 2\n",
      "  Best accuracy: 0.9778\n",
      "  Best parameters: {'learning_rate': 9.424354409907966e-05, 'batch_size': 1, 'num_epochs': 4}\n",
      "\n",
      "Waiting 60 seconds before next trial...\n",
      "Memory cleared\n",
      "\n",
      "================================================================================\n",
      "STARTING TRIAL 5 OF 5\n",
      "================================================================================\n",
      "\n",
      "============================================================\n",
      "TRIAL 5\n",
      "============================================================\n",
      "Hyperparameters for Trial 5:\n",
      "  Learning Rate: 4.46e-05\n",
      "  Batch Size: 2\n",
      "  Number of Epochs: 1\n",
      "Memory cleared\n",
      "\n",
      "Loading fresh Gemma model...\n",
      "\n",
      "Error in trial 5: \n",
      "                    Some modules are dispatched on the CPU or the disk. Make sure you have enough GPU RAM to fit the\n",
      "                    quantized model. If you want to dispatch the model on the CPU or the disk while keeping these modules\n",
      "                    in 32-bit, you need to set `load_in_8bit_fp32_cpu_offload=True` and pass a custom `device_map` to\n",
      "                    `from_pretrained`. Check\n",
      "                    https://huggingface.co/docs/transformers/main/en/main_classes/quantization#offload-between-cpu-and-gpu\n",
      "                    for more details.\n",
      "                    \n",
      "Memory cleared\n"
     ]
    },
    {
     "name": "stderr",
     "output_type": "stream",
     "text": [
      "[I 2025-07-01 06:30:39,678] Trial 4 finished with value: 0.0 and parameters: {'learning_rate': 4.46364938889645e-05, 'batch_size': 2, 'num_epochs': 1}. Best is trial 1 with value: 0.9777777777777777.\n"
     ]
    },
    {
     "name": "stdout",
     "output_type": "stream",
     "text": [
      "\n",
      "Current best trial:\n",
      "  Trial number: 2\n",
      "  Best accuracy: 0.9778\n",
      "  Best parameters: {'learning_rate': 9.424354409907966e-05, 'batch_size': 1, 'num_epochs': 4}\n",
      "\n",
      "================================================================================\n",
      "HYPERPARAMETER TUNING COMPLETED!\n",
      "================================================================================\n"
     ]
    }
   ],
   "source": [
    "print(\"Starting Optuna hyperparameter tuning...\")\n",
    "print(f\"Number of trials: 5\")\n",
    "print(f\"Wait time between trials: 60 seconds\")\n",
    "\n",
    "# Create Optuna study\n",
    "study_name = f\"gemma_hyperparameter_tuning_{datetime.now().strftime('%Y%m%d_%H%M%S')}\"\n",
    "study = optuna.create_study(\n",
    "    direction='maximize',  # Maximize validation accuracy\n",
    "    study_name=study_name,\n",
    "    storage=f'sqlite:///{study_name}.db',\n",
    "    load_if_exists=True\n",
    ")\n",
    "\n",
    "print(f\"Study created: {study_name}\")\n",
    "\n",
    "# Run optimization\n",
    "for trial_num in range(5):\n",
    "    print(f\"\\n{'='*80}\")\n",
    "    print(f\"STARTING TRIAL {trial_num + 1} OF 5\")\n",
    "    print(f\"{'='*80}\")\n",
    "    \n",
    "    # Run single trial\n",
    "    study.optimize(objective, n_trials=1)\n",
    "    \n",
    "    # Print current best\n",
    "    print(f\"\\nCurrent best trial:\")\n",
    "    print(f\"  Trial number: {study.best_trial.number + 1}\")\n",
    "    print(f\"  Best accuracy: {study.best_value:.4f}\")\n",
    "    print(f\"  Best parameters: {study.best_params}\")\n",
    "    \n",
    "    # Wait between trials (except after the last one)\n",
    "    if trial_num < 4:\n",
    "        print(f\"\\nWaiting 60 seconds before next trial...\")\n",
    "        time.sleep(60)\n",
    "        clear_memory()\n",
    "\n",
    "print(f\"\\n{'='*80}\")\n",
    "print(f\"HYPERPARAMETER TUNING COMPLETED!\")\n",
    "print(f\"{'='*80}\")"
   ]
  },
  {
   "cell_type": "markdown",
   "metadata": {},
   "source": [
    "## Results Analysis"
   ]
  },
  {
   "cell_type": "code",
   "execution_count": 7,
   "metadata": {},
   "outputs": [
    {
     "name": "stdout",
     "output_type": "stream",
     "text": [
      "HYPERPARAMETER TUNING RESULTS\n",
      "============================================================\n",
      "\n",
      "Best Trial: #2\n",
      "Best Validation Accuracy: 0.9778\n",
      "\n",
      "Best Hyperparameters:\n",
      "  learning_rate: 9.42e-05\n",
      "  batch_size: 1\n",
      "  num_epochs: 4\n",
      "\n",
      "All Trials Summary:\n",
      "Trial  Learning Rate   Batch Size   Epochs   Accuracy  \n",
      "------------------------------------------------------------\n",
      "1      1.50e-05        2            4        0.8889    \n",
      "2      9.42e-05        1            4        0.9778    \n",
      "3      5.43e-05        2            4        0.9556    \n",
      "4      6.46e-05        1            3        0.9556    \n",
      "5      4.46e-05        2            1        0.0000    \n",
      "\n",
      "Results saved to: ../results/gemma_hyperparameter_tuning_results_20250701_063039.csv\n",
      "\n",
      "Key Insights:\n",
      "  • Total trials completed: 5\n",
      "  • Best accuracy achieved: 0.9778\n",
      "  • Accuracy range: 0.0000 - 0.9778\n",
      "  • Standard deviation: 0.4237\n",
      "\n",
      "Parameter Analysis:\n",
      "  • Learning rate range: 1.50e-05 - 9.42e-05\n",
      "  • Batch sizes tested: [1, 2]\n",
      "  • Epochs range: 1 - 4\n"
     ]
    }
   ],
   "source": [
    "print(\"HYPERPARAMETER TUNING RESULTS\")\n",
    "print(\"=\" * 60)\n",
    "\n",
    "# Best trial information\n",
    "best_trial = study.best_trial\n",
    "print(f\"\\nBest Trial: #{best_trial.number + 1}\")\n",
    "print(f\"Best Validation Accuracy: {best_trial.value:.4f}\")\n",
    "print(f\"\\nBest Hyperparameters:\")\n",
    "for key, value in best_trial.params.items():\n",
    "    if key == 'learning_rate':\n",
    "        print(f\"  {key}: {value:.2e}\")\n",
    "    else:\n",
    "        print(f\"  {key}: {value}\")\n",
    "\n",
    "# All trials summary\n",
    "print(f\"\\nAll Trials Summary:\")\n",
    "print(f\"{'Trial':<6} {'Learning Rate':<15} {'Batch Size':<12} {'Epochs':<8} {'Accuracy':<10}\")\n",
    "print(\"-\" * 60)\n",
    "\n",
    "for trial in study.trials:\n",
    "    trial_num = trial.number + 1\n",
    "    lr = trial.params.get('learning_rate', 'N/A')\n",
    "    batch_size = trial.params.get('batch_size', 'N/A')\n",
    "    epochs = trial.params.get('num_epochs', 'N/A')\n",
    "    accuracy = trial.value if trial.value is not None else 0.0\n",
    "    \n",
    "    lr_str = f\"{lr:.2e}\" if lr != 'N/A' else 'N/A'\n",
    "    print(f\"{trial_num:<6} {lr_str:<15} {batch_size:<12} {epochs:<8} {accuracy:<10.4f}\")\n",
    "\n",
    "# Create results dataframe\n",
    "results_data = []\n",
    "for trial in study.trials:\n",
    "    results_data.append({\n",
    "        'trial_number': trial.number + 1,\n",
    "        'learning_rate': trial.params.get('learning_rate', None),\n",
    "        'batch_size': trial.params.get('batch_size', None),\n",
    "        'num_epochs': trial.params.get('num_epochs', None),\n",
    "        'validation_accuracy': trial.value if trial.value is not None else 0.0,\n",
    "        'trial_state': trial.state.name\n",
    "    })\n",
    "\n",
    "results_df = pd.DataFrame(results_data)\n",
    "\n",
    "# Save results\n",
    "results_filename = f\"../results/gemma_hyperparameter_tuning_results_{datetime.now().strftime('%Y%m%d_%H%M%S')}.csv\"\n",
    "results_df.to_csv(results_filename, index=False)\n",
    "print(f\"\\nResults saved to: {results_filename}\")\n",
    "\n",
    "# Analysis insights\n",
    "print(f\"\\nKey Insights:\")\n",
    "print(f\"  • Total trials completed: {len([t for t in study.trials if t.state == optuna.trial.TrialState.COMPLETE])}\")\n",
    "print(f\"  • Best accuracy achieved: {study.best_value:.4f}\")\n",
    "print(f\"  • Accuracy range: {results_df['validation_accuracy'].min():.4f} - {results_df['validation_accuracy'].max():.4f}\")\n",
    "\n",
    "if len(results_df) > 1:\n",
    "    print(f\"  • Standard deviation: {results_df['validation_accuracy'].std():.4f}\")\n",
    "\n",
    "# Parameter analysis\n",
    "completed_trials = results_df[results_df['trial_state'] == 'COMPLETE']\n",
    "if len(completed_trials) > 0:\n",
    "    print(f\"\\nParameter Analysis:\")\n",
    "    print(f\"  • Learning rate range: {completed_trials['learning_rate'].min():.2e} - {completed_trials['learning_rate'].max():.2e}\")\n",
    "    print(f\"  • Batch sizes tested: {sorted(completed_trials['batch_size'].unique())}\")\n",
    "    print(f\"  • Epochs range: {completed_trials['num_epochs'].min()} - {completed_trials['num_epochs'].max()}\")"
   ]
  },
  {
   "cell_type": "markdown",
   "metadata": {},
   "source": [
    "## Visualization"
   ]
  },
  {
   "cell_type": "code",
   "execution_count": 8,
   "metadata": {},
   "outputs": [
    {
     "data": {
      "image/png": "[encoded data removed]",
      "text/plain": [
       "<Figure size 1500x1200 with 4 Axes>"
      ]
     },
     "metadata": {},
     "output_type": "display_data"
    },
    {
     "name": "stdout",
     "output_type": "stream",
     "text": [
      "Plots saved to: ../results/gemma_hyperparameter_tuning_plots_20250701_063040.png\n"
     ]
    }
   ],
   "source": [
    "import matplotlib.pyplot as plt\n",
    "import seaborn as sns\n",
    "\n",
    "# Set up plotting\n",
    "plt.style.use('default')\n",
    "fig, axes = plt.subplots(2, 2, figsize=(15, 12))\n",
    "fig.suptitle('Gemma Hyperparameter Tuning Results', fontsize=16, fontweight='bold')\n",
    "\n",
    "completed_df = results_df[results_df['trial_state'] == 'COMPLETE']\n",
    "\n",
    "if len(completed_df) > 0:\n",
    "    # 1. Trial progression\n",
    "    axes[0, 0].plot(completed_df['trial_number'], completed_df['validation_accuracy'], \n",
    "                    marker='o', linewidth=2, markersize=8)\n",
    "    axes[0, 0].set_title('Validation Accuracy by Trial')\n",
    "    axes[0, 0].set_xlabel('Trial Number')\n",
    "    axes[0, 0].set_ylabel('Validation Accuracy')\n",
    "    axes[0, 0].grid(True, alpha=0.3)\n",
    "    \n",
    "    # Highlight best trial\n",
    "    best_idx = completed_df['validation_accuracy'].idxmax()\n",
    "    best_trial_num = completed_df.loc[best_idx, 'trial_number']\n",
    "    best_accuracy = completed_df.loc[best_idx, 'validation_accuracy']\n",
    "    axes[0, 0].scatter([best_trial_num], [best_accuracy], color='red', s=100, zorder=5)\n",
    "    axes[0, 0].annotate(f'Best: {best_accuracy:.4f}', \n",
    "                        xy=(best_trial_num, best_accuracy),\n",
    "                        xytext=(10, 10), textcoords='offset points',\n",
    "                        bbox=dict(boxstyle='round,pad=0.3', facecolor='yellow', alpha=0.7))\n",
    "    \n",
    "    # 2. Learning rate vs accuracy\n",
    "    axes[0, 1].scatter(completed_df['learning_rate'], completed_df['validation_accuracy'], \n",
    "                       alpha=0.7, s=100)\n",
    "    axes[0, 1].set_title('Learning Rate vs Validation Accuracy')\n",
    "    axes[0, 1].set_xlabel('Learning Rate')\n",
    "    axes[0, 1].set_ylabel('Validation Accuracy')\n",
    "    axes[0, 1].set_xscale('log')\n",
    "    axes[0, 1].grid(True, alpha=0.3)\n",
    "    \n",
    "    # 3. Batch size vs accuracy\n",
    "    batch_sizes = sorted(completed_df['batch_size'].unique())\n",
    "    batch_accuracies = [completed_df[completed_df['batch_size'] == bs]['validation_accuracy'].values \n",
    "                        for bs in batch_sizes]\n",
    "    \n",
    "    axes[1, 0].boxplot(batch_accuracies, labels=batch_sizes)\n",
    "    axes[1, 0].set_title('Batch Size vs Validation Accuracy')\n",
    "    axes[1, 0].set_xlabel('Batch Size')\n",
    "    axes[1, 0].set_ylabel('Validation Accuracy')\n",
    "    axes[1, 0].grid(True, alpha=0.3)\n",
    "    \n",
    "    # 4. Epochs vs accuracy\n",
    "    axes[1, 1].scatter(completed_df['num_epochs'], completed_df['validation_accuracy'], \n",
    "                       alpha=0.7, s=100)\n",
    "    axes[1, 1].set_title('Number of Epochs vs Validation Accuracy')\n",
    "    axes[1, 1].set_xlabel('Number of Epochs')\n",
    "    axes[1, 1].set_ylabel('Validation Accuracy')\n",
    "    axes[1, 1].grid(True, alpha=0.3)\n",
    "    \n",
    "    plt.tight_layout()\n",
    "    \n",
    "    # Save plot\n",
    "    plot_filename = f\"../results/gemma_hyperparameter_tuning_plots_{datetime.now().strftime('%Y%m%d_%H%M%S')}.png\"\n",
    "    plt.savefig(plot_filename, dpi=300, bbox_inches='tight')\n",
    "    plt.show()\n",
    "    \n",
    "    print(f\"Plots saved to: {plot_filename}\")\n",
    "else:\n",
    "    print(\"No completed trials to visualize\")\n",
    "    plt.close(fig)"
   ]
  },
  {
   "cell_type": "markdown",
   "metadata": {},
   "source": [
    "## Recommendations"
   ]
  },
  {
   "cell_type": "code",
   "execution_count": 9,
   "metadata": {},
   "outputs": [
    {
     "name": "stdout",
     "output_type": "stream",
     "text": [
      "RECOMMENDATIONS BASED ON HYPERPARAMETER TUNING\n",
      "============================================================\n",
      "\n",
      " RECOMMENDED CONFIGURATION:\n",
      "  Learning Rate: 9.42e-05\n",
      "  Batch Size: 1\n",
      "  Number of Epochs: 4\n",
      "  Expected Accuracy: 0.9778\n",
      "\n",
      " PARAMETER ANALYSIS:\n",
      "\n",
      "Learning Rate:\n",
      "  Best performing: 9.42e-05 (avg accuracy: 0.9778)\n",
      "\n",
      "Batch Size:\n",
      "  Best performing: 1 (avg accuracy: 0.9667)\n",
      "\n",
      "Number of Epochs:\n",
      "  Best performing: 3 (avg accuracy: 0.9556)\n",
      "\n",
      " KEY INSIGHTS:\n",
      "  • Hyperparameters have significant impact (range: 0.9778)\n",
      "  • Learning rate shows no clear linear trend\n",
      "\n",
      " TRAINING RECOMMENDATIONS:\n",
      "  • Use the best configuration for final model training\n",
      "  • Consider training for more epochs if computational budget allows\n",
      "  • Monitor validation performance to avoid overfitting\n",
      "\\ OUTPUT FILES:\n",
      "  • Results CSV: ../results/gemma_hyperparameter_tuning_results_20250701_063039.csv\n",
      "  • Visualization: ../results/gemma_hyperparameter_tuning_plots_20250701_063040.png\n",
      "  • Optuna database: gemma_hyperparameter_tuning_20250701_012404.db\n",
      "\n",
      " Hyperparameter tuning analysis complete!\n",
      "Use the recommended configuration for training your final Gemma model.\n"
     ]
    }
   ],
   "source": [
    "print(\"RECOMMENDATIONS BASED ON HYPERPARAMETER TUNING\")\n",
    "print(\"=\" * 60)\n",
    "\n",
    "if len(completed_df) > 0:\n",
    "    # Best configuration\n",
    "    best_config = study.best_params\n",
    "    print(f\"\\n RECOMMENDED CONFIGURATION:\")\n",
    "    print(f\"  Learning Rate: {best_config['learning_rate']:.2e}\")\n",
    "    print(f\"  Batch Size: {best_config['batch_size']}\")\n",
    "    print(f\"  Number of Epochs: {best_config['num_epochs']}\")\n",
    "    print(f\"  Expected Accuracy: {study.best_value:.4f}\")\n",
    "    \n",
    "    # Analysis by parameter\n",
    "    print(f\"\\n PARAMETER ANALYSIS:\")\n",
    "    \n",
    "    # Learning rate analysis\n",
    "    lr_analysis = completed_df.groupby('learning_rate')['validation_accuracy'].agg(['mean', 'std', 'count'])\n",
    "    best_lr = lr_analysis['mean'].idxmax()\n",
    "    print(f\"\\nLearning Rate:\")\n",
    "    print(f\"  Best performing: {best_lr:.2e} (avg accuracy: {lr_analysis.loc[best_lr, 'mean']:.4f})\")\n",
    "    \n",
    "    # Batch size analysis\n",
    "    bs_analysis = completed_df.groupby('batch_size')['validation_accuracy'].agg(['mean', 'std', 'count'])\n",
    "    best_bs = bs_analysis['mean'].idxmax()\n",
    "    print(f\"\\nBatch Size:\")\n",
    "    print(f\"  Best performing: {best_bs} (avg accuracy: {bs_analysis.loc[best_bs, 'mean']:.4f})\")\n",
    "    \n",
    "    # Epochs analysis\n",
    "    epoch_analysis = completed_df.groupby('num_epochs')['validation_accuracy'].agg(['mean', 'std', 'count'])\n",
    "    best_epochs = epoch_analysis['mean'].idxmax()\n",
    "    print(f\"\\nNumber of Epochs:\")\n",
    "    print(f\"  Best performing: {best_epochs} (avg accuracy: {epoch_analysis.loc[best_epochs, 'mean']:.4f})\")\n",
    "    \n",
    "    # General insights\n",
    "    print(f\"\\n KEY INSIGHTS:\")\n",
    "    \n",
    "    accuracy_range = completed_df['validation_accuracy'].max() - completed_df['validation_accuracy'].min()\n",
    "    if accuracy_range > 0.05:\n",
    "        print(f\"  • Hyperparameters have significant impact (range: {accuracy_range:.4f})\")\n",
    "    else:\n",
    "        print(f\"  • Hyperparameters have moderate impact (range: {accuracy_range:.4f})\")\n",
    "    \n",
    "    # Learning rate insights\n",
    "    lr_values = completed_df['learning_rate'].values\n",
    "    if len(lr_values) > 1:\n",
    "        lr_corr = np.corrcoef(lr_values, completed_df['validation_accuracy'].values)[0, 1]\n",
    "        if lr_corr > 0.3:\n",
    "            print(f\"  • Higher learning rates tend to perform better\")\n",
    "        elif lr_corr < -0.3:\n",
    "            print(f\"  • Lower learning rates tend to perform better\")\n",
    "        else:\n",
    "            print(f\"  • Learning rate shows no clear linear trend\")\n",
    "    \n",
    "    # Training recommendations\n",
    "    print(f\"\\n TRAINING RECOMMENDATIONS:\")\n",
    "    print(f\"  • Use the best configuration for final model training\")\n",
    "    print(f\"  • Consider training for more epochs if computational budget allows\")\n",
    "    print(f\"  • Monitor validation performance to avoid overfitting\")\n",
    "    \n",
    "    if study.best_value < 0.8:\n",
    "        print(f\"  • Consider additional hyperparameter tuning (rank, alpha, dropout)\")\n",
    "        print(f\"  • Experiment with different model architectures\")\n",
    "    \n",
    "else:\n",
    "    print(\"\\n  No completed trials to analyze\")\n",
    "    print(\"Please check for errors and rerun the tuning process\")\n",
    "\n",
    "print(f\"\\ OUTPUT FILES:\")\n",
    "print(f\"  • Results CSV: {results_filename}\")\n",
    "if 'plot_filename' in locals():\n",
    "    print(f\"  • Visualization: {plot_filename}\")\n",
    "print(f\"  • Optuna database: {study_name}.db\")\n",
    "\n",
    "print(f\"\\n Hyperparameter tuning analysis complete!\")\n",
    "print(f\"Use the recommended configuration for training your final Gemma model.\")"
   ]
  },
  {
   "cell_type": "markdown",
   "metadata": {},
   "source": [
    "## Summary\n",
    "\n",
    "This notebook completed hyperparameter tuning for Gemma-7B using Optuna with the following setup:\n",
    "\n",
    "### Configuration:\n",
    "- **Trials**: 5 trials with 60-second intervals\n",
    "- **Parameters**: Learning rate, batch size, number of epochs\n",
    "- **Dataset**: FinancialPhraseBank with 100% annotator agreement\n",
    "- **Objective**: Maximize validation accuracy\n",
    "\n",
    "### Process:\n",
    "- Memory clearing between trials\n",
    "- Fresh model loading for each trial\n",
    "- Comprehensive evaluation on validation set\n",
    "- Results tracking and visualization\n",
    "\n",
    "### Outputs:\n",
    "- Best hyperparameter configuration\n",
    "- Detailed results CSV\n",
    "- Performance visualizations\n",
    "- Training recommendations\n",
    "\n",
    "### Next Steps:\n",
    "1. Use the recommended configuration for final model training\n",
    "2. Train on the full dataset with optimal parameters\n",
    "3. Evaluate on test set for final performance metrics\n",
    "4. Compare with baseline and other model architectures"
   ]
  }
 ],
 "metadata": {
  "kernelspec": {
   "display_name": "fyp-venv",
   "language": "python",
   "name": "python3"
  },
  "language_info": {
   "codemirror_mode": {
    "name": "ipython",
    "version": 3
   },
   "file_extension": ".py",
   "mimetype": "text/x-python",
   "name": "python",
   "nbconvert_exporter": "python",
   "pygments_lexer": "ipython3",
   "version": "3.12.7"
  }
 },
 "nbformat": 4,
 "nbformat_minor": 4
}
