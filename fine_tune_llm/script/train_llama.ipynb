{
 "cells": [
  {
   "cell_type": "code",
   "execution_count": 1,
   "metadata": {},
   "outputs": [],
   "source": [
    "# pip install torch==2.5.1+cu121 --index-url https://download.pytorch.org/whl/cu121\n",
    "# pip install -U transformers datasets peft trl bitsandbytes accelerate\n",
    "# pip install pandas matplotlib\n",
    "# pip install peft"
   ]
  },
  {
   "cell_type": "code",
   "execution_count": null,
   "metadata": {},
   "outputs": [
    {
     "name": "stderr",
     "output_type": "stream",
     "text": [
      "c:\\Users\\Jayden\\Desktop\\llm_fyp_finbert\\.venv\\Lib\\site-packages\\tqdm\\auto.py:21: TqdmWarning: IProgress not found. Please update jupyter and ipywidgets. See https://ipywidgets.readthedocs.io/en/stable/user_install.html\n",
      "  from .autonotebook import tqdm as notebook_tqdm\n"
     ]
    },
    {
     "name": "stdout",
     "output_type": "stream",
     "text": [
      "True\n",
      "0\n",
      "NVIDIA GeForce RTX 4060 Ti\n"
     ]
    }
   ],
   "source": [
    "import torch\n",
    "from transformers import AutoModelForCausalLM, AutoTokenizer, BitsAndBytesConfig, TrainingArguments, pipeline\n",
    "from datasets import load_dataset\n",
    "from peft import LoraConfig, get_peft_model, PeftModel\n",
    "from trl import SFTTrainer\n",
    "import pandas as pd\n",
    "import matplotlib.pyplot as plt\n",
    "\n",
    "print(torch.cuda.is_available())  # Should return True\n",
    "print(torch.cuda.current_device())  # Should return 0 (or your GPU index)\n",
    "print(torch.cuda.get_device_name(0))  # Should print your GPU name\n",
    "\n",
    "# Authenticate with Hugging Face (replace with your token)\n",
    "from huggingface_hub import login\n",
    "login(token=\"HUGGING_FACE_TOKEN\")"
   ]
  },
  {
   "cell_type": "code",
   "execution_count": 3,
   "metadata": {},
   "outputs": [
    {
     "name": "stdout",
     "output_type": "stream",
     "text": [
      "Dataset Size: 2264\n",
      "\n",
      "Sentiment Distribution:\n",
      "label\n",
      "1    1391\n",
      "2     570\n",
      "0     303\n",
      "Name: count, dtype: int64\n",
      "\n",
      "Sentence Length Statistics:\n",
      "count    2264.000000\n",
      "mean       22.441696\n",
      "std        10.147048\n",
      "min         2.000000\n",
      "25%        15.000000\n",
      "50%        21.000000\n",
      "75%        28.000000\n",
      "max        81.000000\n",
      "Name: sentence_length, dtype: float64\n"
     ]
    },
    {
     "data": {
      "image/png": "[encoded data removed]",
      "text/plain": [
       "<Figure size 800x600 with 1 Axes>"
      ]
     },
     "metadata": {},
     "output_type": "display_data"
    },
    {
     "name": "stdout",
     "output_type": "stream",
     "text": [
      "\n",
      "Example Sentences:\n",
      "neutral: According to Gran , the company has no plans to move all production to Russia , although that is where the company is growing .\n",
      "positive: For the last quarter of 2010 , Componenta 's net sales doubled to EUR131m from EUR76m for the same period a year earlier , while it moved to a zero pre-tax profit from a pre-tax loss of EUR7m .\n",
      "positive: In the third quarter of 2010 , net sales increased by 5.2 % to EUR 205.5 mn , and operating profit by 34.9 % to EUR 23.5 mn .\n"
     ]
    }
   ],
   "source": [
    "# Step 2.5: Analyze the dataset\n",
    "\n",
    "# dataset = load_dataset(\"takala/financial_phrasebank\", \"sentences_allagree\", trust_remote_code=True),\n",
    "# print(f\"Type of dataset: {type(dataset)}\")\n",
    "# print(f\"Dataset contents: {dataset}\")\n",
    "# df = pd.DataFrame(dataset['train'])\n",
    "# print(\"Dataset Size:\", len(df))\n",
    "# print(\"\\nSentiment Distribution:\")\n",
    "# sentiment_counts = df['label'].value_counts()\n",
    "# sentiment_map = {0: \"negative\", 1: \"neutral\", 2: \"positive\"}\n",
    "# print(sentiment_counts.replace(sentiment_map))\n",
    "dataset = load_dataset(\"takala/financial_phrasebank\", \"sentences_allagree\", trust_remote_code=True)\n",
    "\n",
    "# Check if it's a DatasetDict\n",
    "if isinstance(dataset, dict) and 'train' in dataset:\n",
    "    df = pd.DataFrame(dataset['train'])\n",
    "else:\n",
    "    # If it's a tuple or unexpected format, inspect and adjust\n",
    "    print(f\"Unexpected dataset type: {type(dataset)}\")\n",
    "    print(f\"Dataset contents: {dataset}\")\n",
    "    # Assuming the first element is the train split (common for some datasets)\n",
    "    df = pd.DataFrame(dataset[0])  # Try this if it’s a tuple\n",
    "\n",
    "print(\"Dataset Size:\", len(df))\n",
    "print(\"\\nSentiment Distribution:\")\n",
    "sentiment_counts = df['label'].value_counts()\n",
    "sentiment_map = {0: \"negative\", 1: \"neutral\", 2: \"positive\"}\n",
    "print(sentiment_counts.replace(sentiment_map))\n",
    "\n",
    "df['sentence_length'] = df['sentence'].apply(lambda x: len(x.split()))\n",
    "print(\"\\nSentence Length Statistics:\")\n",
    "print(df['sentence_length'].describe())\n",
    "plt.figure(figsize=(8, 6))\n",
    "sentiment_counts.plot(kind='bar', color=['red', 'gray', 'green'])\n",
    "plt.title('Sentiment Distribution in Financial PhraseBank')\n",
    "plt.xlabel('Sentiment')\n",
    "plt.ylabel('Count')\n",
    "plt.xticks(ticks=[0, 1, 2], labels=['Negative', 'Neutral', 'Positive'], rotation=0)\n",
    "plt.show()\n",
    "print(\"\\nExample Sentences:\")\n",
    "for i in range(3):\n",
    "    print(f\"{sentiment_map[df['label'][i]]}: {df['sentence'][i]}\")"
   ]
  },
  {
   "cell_type": "code",
   "execution_count": 4,
   "metadata": {},
   "outputs": [
    {
     "name": "stdout",
     "output_type": "stream",
     "text": [
      "{'sentence': 'ADPnews - Jul 17 , 2009 - Finland-based steel maker Rautaruukki Oyj Ruukki HEL : RTRKS said today it slipped to a net loss of EUR 184 million USD 259.7 m for the first half of 2009 from a net profit of EUR 2', 'label': 0, 'text': '<|begin_of_text|>Classify the sentiment of this financial statement: ADPnews - Jul 17 , 2009 - Finland-based steel maker Rautaruukki Oyj Ruukki HEL : RTRKS said today it slipped to a net loss of EUR 184 million USD 259.7 m for the first half of 2009 from a net profit of EUR 2\\n\\n\\n\\nThe sentiment is negative.<|eot_id>'}\n"
     ]
    }
   ],
   "source": [
    "# Step 3: Prepare the dataset\n",
    "def format_example(example):\n",
    "    sentiment_map = {0: \"negative\", 1: \"neutral\", 2: \"positive\"}\n",
    "    prompt = f\"<|begin_of_text|>Classify the sentiment of this financial statement: {example['sentence']}\\n\\n\"\n",
    "    response = f\"The sentiment is {sentiment_map[example['label']]}.<|eot_id>\"\n",
    "    return {\"text\": f\"{prompt}\\n\\n{response}\"}\n",
    "\n",
    "formatted_dataset = dataset.map(format_example)\n",
    "train_dataset = formatted_dataset[\"train\"].train_test_split(test_size=0.2)\n",
    "print(train_dataset['train'][0])"
   ]
  },
  {
   "cell_type": "code",
   "execution_count": 5,
   "metadata": {},
   "outputs": [
    {
     "name": "stderr",
     "output_type": "stream",
     "text": [
      "Loading checkpoint shards: 100%|██████████| 4/4 [00:13<00:00,  3.38s/it]\n"
     ]
    }
   ],
   "source": [
    "\n",
    "# Step 4: Load Llama 3 with 4-bit quantization\n",
    "model_name = \"meta-llama/Meta-Llama-3-8B\"\n",
    "bnb_config = BitsAndBytesConfig(\n",
    "    load_in_4bit=True,\n",
    "    bnb_4bit_quant_type=\"nf4\",\n",
    "    bnb_4bit_compute_dtype=torch.float16  # Use torch.float16 directly\n",
    ")\n",
    "model = AutoModelForCausalLM.from_pretrained(\n",
    "    model_name,\n",
    "    quantization_config=bnb_config,\n",
    "    device_map=\"auto\"  # Automatically maps to your GPU\n",
    ")\n",
    "tokenizer = AutoTokenizer.from_pretrained(model_name)\n",
    "tokenizer.pad_token = tokenizer.eos_token"
   ]
  },
  {
   "cell_type": "code",
   "execution_count": 6,
   "metadata": {},
   "outputs": [],
   "source": [
    "# Step 5: Configure LoRA\n",
    "lora_config = LoraConfig(\n",
    "    r=16,\n",
    "    lora_alpha=32,\n",
    "    target_modules=[\"q_proj\", \"v_proj\"],\n",
    "    lora_dropout=0.05,\n",
    "    bias=\"none\",\n",
    "    task_type=\"CAUSAL_LM\"\n",
    ")\n",
    "model = get_peft_model(model, lora_config)"
   ]
  },
  {
   "cell_type": "code",
   "execution_count": null,
   "metadata": {},
   "outputs": [
    {
     "name": "stderr",
     "output_type": "stream",
     "text": [
      "c:\\Users\\Jayden\\Desktop\\llm_fyp_finbert\\.venv\\Lib\\site-packages\\transformers\\training_args.py:1594: FutureWarning: `evaluation_strategy` is deprecated and will be removed in version 4.46 of 🤗 Transformers. Use `eval_strategy` instead\n",
      "  warnings.warn(\n",
      "C:\\Users\\Jayden\\AppData\\Local\\Temp\\ipykernel_7020\\950563792.py:16: FutureWarning: `tokenizer` is deprecated and removed starting from version 0.16.0 for `SFTTrainer.__init__`. Use `processing_class` instead.\n",
      "  trainer = SFTTrainer(\n",
      "Converting train dataset to ChatML: 100%|██████████| 1811/1811 [00:00<00:00, 16981.75 examples/s]\n",
      "Applying chat template to train dataset: 100%|██████████| 1811/1811 [00:00<00:00, 34968.79 examples/s]\n",
      "Tokenizing train dataset: 100%|██████████| 1811/1811 [00:00<00:00, 6996.87 examples/s]\n",
      "Tokenizing train dataset: 100%|██████████| 1811/1811 [00:00<00:00, 11991.29 examples/s]\n",
      "Converting eval dataset to ChatML: 100%|██████████| 453/453 [00:00<00:00, 16675.18 examples/s]\n",
      "Applying chat template to eval dataset: 100%|██████████| 453/453 [00:00<00:00, 22458.07 examples/s]\n",
      "Tokenizing eval dataset: 100%|██████████| 453/453 [00:00<00:00, 5688.60 examples/s]\n",
      "Tokenizing eval dataset: 100%|██████████| 453/453 [00:00<00:00, 13210.45 examples/s]\n",
      "No label_names provided for model class `PeftModelForCausalLM`. Since `PeftModel` hides base models input arguments, if label_names is not given, label_names can't be set automatically within `Trainer`. Note that empty label_names list will be used instead.\n"
     ]
    }
   ],
   "source": [
    "# Step 6: Set up the trainer\n",
    "training_args = TrainingArguments(\n",
    "    output_dir=\"../models/llama3_finetuned\",\n",
    "    per_device_train_batch_size=2,\n",
    "    gradient_accumulation_steps=4,\n",
    "    learning_rate=2e-4,\n",
    "    num_train_epochs=10,\n",
    "    warmup_steps=20,\n",
    "    logging_steps=10,\n",
    "    save_steps=50,\n",
    "    optim=\"paged_adamw_8bit\",\n",
    "    fp16=True,\n",
    "    evaluation_strategy=\"steps\",\n",
    "    eval_steps=50,\n",
    ")\n",
    "trainer = SFTTrainer(\n",
    "    model=model,\n",
    "    tokenizer=tokenizer,\n",
    "    train_dataset=train_dataset[\"train\"],\n",
    "    eval_dataset=train_dataset[\"test\"],\n",
    "    args=training_args\n",
    ")"
   ]
  },
  {
   "cell_type": "code",
   "execution_count": 8,
   "metadata": {},
   "outputs": [
    {
     "data": {
      "text/html": [
       "\n",
       "    <div>\n",
       "      \n",
       "      <progress value='2260' max='2260' style='width:300px; height:20px; vertical-align: middle;'></progress>\n",
       "      [2260/2260 1:04:40, Epoch 9/10]\n",
       "    </div>\n",
       "    <table border=\"1\" class=\"dataframe\">\n",
       "  <thead>\n",
       " <tr style=\"text-align: left;\">\n",
       "      <th>Step</th>\n",
       "      <th>Training Loss</th>\n",
       "      <th>Validation Loss</th>\n",
       "    </tr>\n",
       "  </thead>\n",
       "  <tbody>\n",
       "    <tr>\n",
       "      <td>50</td>\n",
       "      <td>1.901900</td>\n",
       "      <td>1.909111</td>\n",
       "    </tr>\n",
       "    <tr>\n",
       "      <td>100</td>\n",
       "      <td>1.539800</td>\n",
       "      <td>1.486304</td>\n",
       "    </tr>\n",
       "    <tr>\n",
       "      <td>150</td>\n",
       "      <td>1.345500</td>\n",
       "      <td>1.440792</td>\n",
       "    </tr>\n",
       "    <tr>\n",
       "      <td>200</td>\n",
       "      <td>1.336200</td>\n",
       "      <td>1.420034</td>\n",
       "    </tr>\n",
       "    <tr>\n",
       "      <td>250</td>\n",
       "      <td>1.196800</td>\n",
       "      <td>1.415123</td>\n",
       "    </tr>\n",
       "    <tr>\n",
       "      <td>300</td>\n",
       "      <td>1.284400</td>\n",
       "      <td>1.403291</td>\n",
       "    </tr>\n",
       "    <tr>\n",
       "      <td>350</td>\n",
       "      <td>1.397100</td>\n",
       "      <td>1.406124</td>\n",
       "    </tr>\n",
       "    <tr>\n",
       "      <td>400</td>\n",
       "      <td>1.306600</td>\n",
       "      <td>1.397535</td>\n",
       "    </tr>\n",
       "    <tr>\n",
       "      <td>450</td>\n",
       "      <td>1.344600</td>\n",
       "      <td>1.390632</td>\n",
       "    </tr>\n",
       "    <tr>\n",
       "      <td>500</td>\n",
       "      <td>1.194000</td>\n",
       "      <td>1.411987</td>\n",
       "    </tr>\n",
       "    <tr>\n",
       "      <td>550</td>\n",
       "      <td>1.147800</td>\n",
       "      <td>1.418397</td>\n",
       "    </tr>\n",
       "    <tr>\n",
       "      <td>600</td>\n",
       "      <td>1.107200</td>\n",
       "      <td>1.406485</td>\n",
       "    </tr>\n",
       "    <tr>\n",
       "      <td>650</td>\n",
       "      <td>1.158700</td>\n",
       "      <td>1.406268</td>\n",
       "    </tr>\n",
       "    <tr>\n",
       "      <td>700</td>\n",
       "      <td>0.988900</td>\n",
       "      <td>1.471058</td>\n",
       "    </tr>\n",
       "    <tr>\n",
       "      <td>750</td>\n",
       "      <td>1.012000</td>\n",
       "      <td>1.465247</td>\n",
       "    </tr>\n",
       "    <tr>\n",
       "      <td>800</td>\n",
       "      <td>0.994300</td>\n",
       "      <td>1.466812</td>\n",
       "    </tr>\n",
       "    <tr>\n",
       "      <td>850</td>\n",
       "      <td>0.997800</td>\n",
       "      <td>1.471772</td>\n",
       "    </tr>\n",
       "    <tr>\n",
       "      <td>900</td>\n",
       "      <td>1.005400</td>\n",
       "      <td>1.452065</td>\n",
       "    </tr>\n",
       "    <tr>\n",
       "      <td>950</td>\n",
       "      <td>0.793100</td>\n",
       "      <td>1.561930</td>\n",
       "    </tr>\n",
       "    <tr>\n",
       "      <td>1000</td>\n",
       "      <td>0.802700</td>\n",
       "      <td>1.542746</td>\n",
       "    </tr>\n",
       "    <tr>\n",
       "      <td>1050</td>\n",
       "      <td>0.819800</td>\n",
       "      <td>1.537259</td>\n",
       "    </tr>\n",
       "    <tr>\n",
       "      <td>1100</td>\n",
       "      <td>0.884800</td>\n",
       "      <td>1.548621</td>\n",
       "    </tr>\n",
       "    <tr>\n",
       "      <td>1150</td>\n",
       "      <td>0.741100</td>\n",
       "      <td>1.687244</td>\n",
       "    </tr>\n",
       "    <tr>\n",
       "      <td>1200</td>\n",
       "      <td>0.705300</td>\n",
       "      <td>1.624426</td>\n",
       "    </tr>\n",
       "    <tr>\n",
       "      <td>1250</td>\n",
       "      <td>0.695100</td>\n",
       "      <td>1.658539</td>\n",
       "    </tr>\n",
       "    <tr>\n",
       "      <td>1300</td>\n",
       "      <td>0.747400</td>\n",
       "      <td>1.671755</td>\n",
       "    </tr>\n",
       "    <tr>\n",
       "      <td>1350</td>\n",
       "      <td>0.734700</td>\n",
       "      <td>1.642075</td>\n",
       "    </tr>\n",
       "    <tr>\n",
       "      <td>1400</td>\n",
       "      <td>0.621500</td>\n",
       "      <td>1.835795</td>\n",
       "    </tr>\n",
       "    <tr>\n",
       "      <td>1450</td>\n",
       "      <td>0.627700</td>\n",
       "      <td>1.771095</td>\n",
       "    </tr>\n",
       "    <tr>\n",
       "      <td>1500</td>\n",
       "      <td>0.595700</td>\n",
       "      <td>1.778405</td>\n",
       "    </tr>\n",
       "    <tr>\n",
       "      <td>1550</td>\n",
       "      <td>0.600000</td>\n",
       "      <td>1.850430</td>\n",
       "    </tr>\n",
       "    <tr>\n",
       "      <td>1600</td>\n",
       "      <td>0.530700</td>\n",
       "      <td>2.013539</td>\n",
       "    </tr>\n",
       "    <tr>\n",
       "      <td>1650</td>\n",
       "      <td>0.528200</td>\n",
       "      <td>1.932351</td>\n",
       "    </tr>\n",
       "    <tr>\n",
       "      <td>1700</td>\n",
       "      <td>0.515600</td>\n",
       "      <td>1.949793</td>\n",
       "    </tr>\n",
       "    <tr>\n",
       "      <td>1750</td>\n",
       "      <td>0.566300</td>\n",
       "      <td>1.923034</td>\n",
       "    </tr>\n",
       "    <tr>\n",
       "      <td>1800</td>\n",
       "      <td>0.579300</td>\n",
       "      <td>1.919178</td>\n",
       "    </tr>\n",
       "    <tr>\n",
       "      <td>1850</td>\n",
       "      <td>0.457100</td>\n",
       "      <td>2.153493</td>\n",
       "    </tr>\n",
       "    <tr>\n",
       "      <td>1900</td>\n",
       "      <td>0.439600</td>\n",
       "      <td>2.116227</td>\n",
       "    </tr>\n",
       "    <tr>\n",
       "      <td>1950</td>\n",
       "      <td>0.469800</td>\n",
       "      <td>2.122112</td>\n",
       "    </tr>\n",
       "    <tr>\n",
       "      <td>2000</td>\n",
       "      <td>0.457500</td>\n",
       "      <td>2.079292</td>\n",
       "    </tr>\n",
       "    <tr>\n",
       "      <td>2050</td>\n",
       "      <td>0.396500</td>\n",
       "      <td>2.180995</td>\n",
       "    </tr>\n",
       "    <tr>\n",
       "      <td>2100</td>\n",
       "      <td>0.401000</td>\n",
       "      <td>2.250658</td>\n",
       "    </tr>\n",
       "    <tr>\n",
       "      <td>2150</td>\n",
       "      <td>0.407000</td>\n",
       "      <td>2.252991</td>\n",
       "    </tr>\n",
       "    <tr>\n",
       "      <td>2200</td>\n",
       "      <td>0.403300</td>\n",
       "      <td>2.238782</td>\n",
       "    </tr>\n",
       "    <tr>\n",
       "      <td>2250</td>\n",
       "      <td>0.444300</td>\n",
       "      <td>2.241040</td>\n",
       "    </tr>\n",
       "  </tbody>\n",
       "</table><p>"
      ],
      "text/plain": [
       "<IPython.core.display.HTML object>"
      ]
     },
     "metadata": {},
     "output_type": "display_data"
    },
    {
     "data": {
      "text/plain": [
       "TrainOutput(global_step=2260, training_loss=0.8797270191454254, metrics={'train_runtime': 3882.3138, 'train_samples_per_second': 4.665, 'train_steps_per_second': 0.582, 'total_flos': 4.719402653508403e+16, 'train_loss': 0.8797270191454254})"
      ]
     },
     "execution_count": 8,
     "metadata": {},
     "output_type": "execute_result"
    }
   ],
   "source": [
    "# Step 7: Fine-tune the model\n",
    "trainer.train()"
   ]
  },
  {
   "cell_type": "code",
   "execution_count": null,
   "metadata": {},
   "outputs": [
    {
     "name": "stderr",
     "output_type": "stream",
     "text": [
      "Loading checkpoint shards: 100%|██████████| 4/4 [00:14<00:00,  3.57s/it]\n",
      "c:\\Users\\Jayden\\Desktop\\llm_fyp_finbert\\.venv\\Lib\\site-packages\\peft\\tuners\\lora\\bnb.py:355: UserWarning: Merge lora module to 4-bit linear may get different generations due to rounding errors.\n",
      "  warnings.warn(\n"
     ]
    },
    {
     "data": {
      "text/plain": [
       "('../fine_tune_llm/models/llama3_merged\\\\tokenizer_config.json',\n",
       " '../fine_tune_llm/models/llama3_merged\\\\special_tokens_map.json',\n",
       " '../fine_tune_llm/models/llama3_merged\\\\tokenizer.json')"
      ]
     },
     "execution_count": 9,
     "metadata": {},
     "output_type": "execute_result"
    }
   ],
   "source": [
    "# Step 8: Save the fine-tuned model\n",
    "trainer.save_model(\"../models/llama3_finetuned_final\")  # Final model\n",
    "\n",
    "# Clear GPU memory\n",
    "import torch\n",
    "torch.cuda.empty_cache()\n",
    "torch.cuda.synchronize()\n",
    "\n",
    "# Load base model and merge\n",
    "base_model = AutoModelForCausalLM.from_pretrained(\n",
    "    model_name,\n",
    "    device_map=\"auto\",\n",
    "    quantization_config=bnb_config\n",
    ")\n",
    "finetuned_model = PeftModel.from_pretrained(base_model, \"../models/llama3_finetuned_final\")\n",
    "merged_model = finetuned_model.merge_and_unload()\n",
    "merged_model.save_pretrained(\"../models/llama3_merged\")\n",
    "tokenizer.save_pretrained(\"../models/llama3_merged\")"
   ]
  },
  {
   "cell_type": "code",
   "execution_count": null,
   "metadata": {},
   "outputs": [
    {
     "name": "stderr",
     "output_type": "stream",
     "text": [
      "`low_cpu_mem_usage` was None, now default to True since model is quantized.\n",
      "Loading checkpoint shards: 100%|██████████| 2/2 [00:07<00:00,  3.59s/it]\n",
      "Device set to use cuda:0\n"
     ]
    },
    {
     "name": "stdout",
     "output_type": "stream",
     "text": [
      "Classify the sentiment of this financial statement: Tesla Prepares to Deploy Long-Awaited FSD Features in China.' ''\n",
      "\n",
      "\n",
      "\n",
      "The sentiment is neutral.<|eot_id><|eot_id>1889\n",
      "\n",
      "\n",
      "\n",
      "\n"
     ]
    }
   ],
   "source": [
    "# Step 9: Test the model\n",
    "generator = pipeline(\"text-generation\", model=\"../models/llama3_merged\", tokenizer=tokenizer)\n",
    "# prompt = \"Classify the sentiment of this financial statement: 'The company saw a significant decline in revenue.'\"\n",
    "prompt = \"Classify the sentiment of this financial statement: Tesla Prepares to Deploy Long-Awaited FSD Features in China.'\"\n",
    "output = generator(prompt, max_new_tokens=20, do_sample=False)\n",
    "print(output[0][\"generated_text\"])"
   ]
  },
  {
   "cell_type": "code",
   "execution_count": null,
   "metadata": {},
   "outputs": [
    {
     "name": "stdout",
     "output_type": "stream",
     "text": [
      "GPU memory cleared.\n"
     ]
    },
    {
     "ename": "",
     "evalue": "",
     "output_type": "error",
     "traceback": [
      "\u001b[1;31mThe Kernel crashed while executing code in the current cell or a previous cell. \n",
      "\u001b[1;31mPlease review the code in the cell(s) to identify a possible cause of the failure. \n",
      "\u001b[1;31mClick <a href='https://aka.ms/vscodeJupyterKernelCrash'>here</a> for more info. \n",
      "\u001b[1;31mView Jupyter <a href='command:jupyter.viewOutput'>log</a> for further details."
     ]
    }
   ],
   "source": [
    "# Clear GPU memory\n",
    "torch.cuda.empty_cache()\n",
    "print(\"GPU memory cleared.\")"
   ]
  }
 ],
 "metadata": {
  "kernelspec": {
   "display_name": ".venv",
   "language": "python",
   "name": "python3"
  },
  "language_info": {
   "codemirror_mode": {
    "name": "ipython",
    "version": 3
   },
   "file_extension": ".py",
   "mimetype": "text/x-python",
   "name": "python",
   "nbconvert_exporter": "python",
   "pygments_lexer": "ipython3",
   "version": "3.12.7"
  }
 },
 "nbformat": 4,
 "nbformat_minor": 2
}
